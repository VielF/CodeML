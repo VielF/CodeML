{
  "nbformat": 4,
  "nbformat_minor": 0,
  "metadata": {
    "kernelspec": {
      "display_name": "Python 3",
      "language": "python",
      "name": "python3"
    },
    "language_info": {
      "codemirror_mode": {
        "name": "ipython",
        "version": 3
      },
      "file_extension": ".py",
      "mimetype": "text/x-python",
      "name": "python",
      "nbconvert_exporter": "python",
      "pygments_lexer": "ipython3",
      "version": "3.8.5"
    },
    "colab": {
      "provenance": [],
      "include_colab_link": true
    },
    "accelerator": "GPU"
  },
  "cells": [
    {
      "cell_type": "markdown",
      "metadata": {
        "id": "view-in-github",
        "colab_type": "text"
      },
      "source": [
        "<a href=\"https://colab.research.google.com/github/VielF/CodeML/blob/main/ML_code_exercise.ipynb\" target=\"_parent\"><img src=\"https://colab.research.google.com/assets/colab-badge.svg\" alt=\"Open In Colab\"/></a>"
      ]
    },
    {
      "cell_type": "markdown",
      "metadata": {
        "id": "OMsGTCqbur0h"
      },
      "source": [
        "Universidade do Vale do Itajaí<br>\n",
        "Escola do Mar, Ciência e Tecnologia<br>\n",
        "Professor - Felipe Viel\n",
        "$\\newcommand{\\bX}{\\mathbf{X}}$\n",
        "$\\newcommand{\\bw}{\\mathbf{w}}$\n",
        "$\\newcommand{\\by}{\\mathbf{y}}$\n",
        "$\\newcommand{\\bx}{\\mathbf{x}}$\n",
        "$\\newcommand{\\bA}{\\mathbf{A}}$\n",
        "$\\newcommand{\\bB}{\\mathbf{B}}$\n",
        "$\\newcommand{\\mat}[1]{\\begin{bmatrix} #1 \\end{bmatrix}}$\n",
        "$\\newcommand{\\matt}[1]{\\begin{matrix} #1 \\end{matrix}}$\n",
        "\n",
        "\n",
        "\n",
        "# Exercício - Algoritmos de ML\n",
        "\n",
        "Este é um tutorial de implementação de diversos modelos de Machine Learning, sendo que em boa parte dos exercíciso você irá se a ter em executar e descrever o que conseguiu observar com os experimentos.\n",
        "\n",
        "Olá mundo"
      ]
    },
    {
      "cell_type": "markdown",
      "metadata": {
        "id": "5mZxOWDLur0m"
      },
      "source": [
        "# Preparação / Revisão\n",
        "\n",
        "- Ler Watt _(Machine Learning Refined)_ cap. 1\n",
        "- Ler Watt apêndices A, B (de B.3 apenas os exemplos B.1.a e B.2.a) e D\n",
        "- Ler e praticar os tutoriais:\n",
        " - Python (se necessário): https://docs.python.org/3/tutorial\n",
        " - NumPy: https://numpy.org/doc/stable/user/quickstart.html\n",
        " - Matplotlib: https://matplotlib.org/tutorials/introductory/pyplot.html\n",
        " - Pandas (opcional): https://pandas.pydata.org/pandas-docs/stable/user_guide/10min.html\n",
        "- Revisar (caso necessário) conceitos básicos de probabilidade e estatística: variáveis aleatórias, distribuição/densidade de probabilidade, histograma, média, variância, correlação"
      ]
    },
    {
      "cell_type": "code",
      "metadata": {
        "id": "ZJzWu6Hgur0n"
      },
      "source": [
        "# Inicie importando as bibliotecas necessárias\n",
        "import numpy as np\n",
        "import pandas as pd\n",
        "import matplotlib.pyplot as plt\n",
        "%matplotlib inline"
      ],
      "execution_count": null,
      "outputs": []
    },
    {
      "cell_type": "markdown",
      "metadata": {
        "id": "3ZmXMY4sur0o"
      },
      "source": [
        "Caso você esteja utilizando o Colab (colab.research.google.com) você pode usar as GPUs buscando ganho de desempenho no processamento. Para saber qual GPU irá usar, utilizar o código abaixo. É altamente indicado usar com redes neurais e deep learning."
      ]
    },
    {
      "cell_type": "code",
      "metadata": {
        "colab": {
          "base_uri": "https://localhost:8080/"
        },
        "id": "Vsn3nzE9ur0o",
        "outputId": "78f7a4d5-5cae-4bbc-b1a4-f25567bf76a3"
      },
      "source": [
        "import numpy as np\n",
        "import matplotlib.pyplot as plt\n",
        "from ipywidgets import interact\n",
        "from sklearn.neural_network import MLPClassifier\n",
        "\n",
        "import sys\n",
        "print('Python version:', sys.version.split(' ')[0])\n",
        "\n",
        "import tensorflow as tf\n",
        "print('TensorFlow version:', tf.__version__)\n",
        "\n",
        "# Find out NVIDIA GPU model (randomly assigned by Colab)\n",
        "# Deep learning performance: K80 < P4 < T4 < P100\n",
        "# https://ai-benchmark.com/ranking_deeplearning.html\n",
        "gpu = !nvidia-smi -L\n",
        "gpu = gpu[0].split(' (')[0]\n",
        "if 'failed' in gpu:\n",
        "  print('GPU: None')\n",
        "else:\n",
        "  print(gpu, '\\n')\n",
        "  # GPU information\n",
        "  !nvidia-smi"
      ],
      "execution_count": null,
      "outputs": [
        {
          "output_type": "stream",
          "name": "stdout",
          "text": [
            "Python version: 3.7.13\n",
            "TensorFlow version: 2.8.0\n",
            "GPU 0: Tesla T4 \n",
            "\n",
            "Tue May 24 23:37:44 2022       \n",
            "+-----------------------------------------------------------------------------+\n",
            "| NVIDIA-SMI 460.32.03    Driver Version: 460.32.03    CUDA Version: 11.2     |\n",
            "|-------------------------------+----------------------+----------------------+\n",
            "| GPU  Name        Persistence-M| Bus-Id        Disp.A | Volatile Uncorr. ECC |\n",
            "| Fan  Temp  Perf  Pwr:Usage/Cap|         Memory-Usage | GPU-Util  Compute M. |\n",
            "|                               |                      |               MIG M. |\n",
            "|===============================+======================+======================|\n",
            "|   0  Tesla T4            Off  | 00000000:00:04.0 Off |                    0 |\n",
            "| N/A   39C    P8     9W /  70W |      0MiB / 15109MiB |      0%      Default |\n",
            "|                               |                      |                  N/A |\n",
            "+-------------------------------+----------------------+----------------------+\n",
            "                                                                               \n",
            "+-----------------------------------------------------------------------------+\n",
            "| Processes:                                                                  |\n",
            "|  GPU   GI   CI        PID   Type   Process name                  GPU Memory |\n",
            "|        ID   ID                                                   Usage      |\n",
            "|=============================================================================|\n",
            "|  No running processes found                                                 |\n",
            "+-----------------------------------------------------------------------------+\n"
          ]
        }
      ]
    },
    {
      "cell_type": "markdown",
      "metadata": {
        "id": "xMt3eqnxur0p"
      },
      "source": [
        "# 1. Manipulando dados\n",
        "\n",
        "1. Baixe o arquivo `coin_Bitcoin.csv` (**terceiro** arquivo da lista em *Data Sources*) disponível em\n",
        "\n",
        "https://www.kaggle.com/sudalairajkumar/cryptocurrencypricehistory/\n",
        "\n",
        "e salve-o numa subpasta `data`, i.e., o arquivo estará acessível em `data/bitcoin_price.csv`\n",
        "\n",
        "2. Carregue o arquivo usando a biblioteca Pandas\n",
        "3. Trace o gráfico do preço de fechamento (\"Close\") em função da data para todo o ano de 2017 (365 amostras):\n",
        " - usando a função `.plot()` do Pandas\n",
        " - convertendo para NumPy e usando Matplotlib\n",
        "\n",
        "### Dicas\n",
        "\n",
        "- Siga o exemplo de uso do Pandas em https://github.com/dsevero/dsevero/blob/master/content/posts/pandas/tutorial.ipynb"
      ]
    },
    {
      "cell_type": "code",
      "source": [
        "from google.colab import drive\n",
        "drive.mount('/content/drive')"
      ],
      "metadata": {
        "colab": {
          "base_uri": "https://localhost:8080/"
        },
        "id": "PwPIc6aBcj-o",
        "outputId": "b7bc5ce0-7a77-4a99-92e7-c94b36c000a5"
      },
      "execution_count": null,
      "outputs": [
        {
          "output_type": "stream",
          "name": "stdout",
          "text": [
            "Mounted at /content/drive\n"
          ]
        }
      ]
    },
    {
      "cell_type": "markdown",
      "metadata": {
        "id": "9VVtJd72ur0p"
      },
      "source": [
        "Inicialmente, carrega-se o dado com a funcão \"read_csv\" da pd (pandas)"
      ]
    },
    {
      "cell_type": "code",
      "metadata": {
        "id": "qvb5axEnur0q"
      },
      "source": [
        "table_data = pd.read_csv(\"data/coin_Bitcoin.csv\")"
      ],
      "execution_count": null,
      "outputs": []
    },
    {
      "cell_type": "code",
      "source": [
        "table_data.head()"
      ],
      "metadata": {
        "colab": {
          "base_uri": "https://localhost:8080/",
          "height": 250
        },
        "id": "jpXTKhgYdOOy",
        "outputId": "e5f9a2b9-43b1-41a2-a3af-021e3397de24"
      },
      "execution_count": null,
      "outputs": [
        {
          "output_type": "execute_result",
          "data": {
            "text/plain": [
              "   SNo     Name Symbol                Date        High         Low  \\\n",
              "0    1  Bitcoin    BTC 2013-04-29 23:59:59  147.488007  134.000000   \n",
              "1    2  Bitcoin    BTC 2013-04-30 23:59:59  146.929993  134.050003   \n",
              "2    3  Bitcoin    BTC 2013-05-01 23:59:59  139.889999  107.720001   \n",
              "3    4  Bitcoin    BTC 2013-05-02 23:59:59  125.599998   92.281898   \n",
              "4    5  Bitcoin    BTC 2013-05-03 23:59:59  108.127998   79.099998   \n",
              "\n",
              "         Open       Close  Volume     Marketcap  \n",
              "0  134.444000  144.539993     0.0  1.603769e+09  \n",
              "1  144.000000  139.000000     0.0  1.542813e+09  \n",
              "2  139.000000  116.989998     0.0  1.298955e+09  \n",
              "3  116.379997  105.209999     0.0  1.168517e+09  \n",
              "4  106.250000   97.750000     0.0  1.085995e+09  "
            ],
            "text/html": [
              "\n",
              "  <div id=\"df-3f1f30a0-3e6f-414b-803d-75ddb8327736\">\n",
              "    <div class=\"colab-df-container\">\n",
              "      <div>\n",
              "<style scoped>\n",
              "    .dataframe tbody tr th:only-of-type {\n",
              "        vertical-align: middle;\n",
              "    }\n",
              "\n",
              "    .dataframe tbody tr th {\n",
              "        vertical-align: top;\n",
              "    }\n",
              "\n",
              "    .dataframe thead th {\n",
              "        text-align: right;\n",
              "    }\n",
              "</style>\n",
              "<table border=\"1\" class=\"dataframe\">\n",
              "  <thead>\n",
              "    <tr style=\"text-align: right;\">\n",
              "      <th></th>\n",
              "      <th>SNo</th>\n",
              "      <th>Name</th>\n",
              "      <th>Symbol</th>\n",
              "      <th>Date</th>\n",
              "      <th>High</th>\n",
              "      <th>Low</th>\n",
              "      <th>Open</th>\n",
              "      <th>Close</th>\n",
              "      <th>Volume</th>\n",
              "      <th>Marketcap</th>\n",
              "    </tr>\n",
              "  </thead>\n",
              "  <tbody>\n",
              "    <tr>\n",
              "      <th>0</th>\n",
              "      <td>1</td>\n",
              "      <td>Bitcoin</td>\n",
              "      <td>BTC</td>\n",
              "      <td>2013-04-29 23:59:59</td>\n",
              "      <td>147.488007</td>\n",
              "      <td>134.000000</td>\n",
              "      <td>134.444000</td>\n",
              "      <td>144.539993</td>\n",
              "      <td>0.0</td>\n",
              "      <td>1.603769e+09</td>\n",
              "    </tr>\n",
              "    <tr>\n",
              "      <th>1</th>\n",
              "      <td>2</td>\n",
              "      <td>Bitcoin</td>\n",
              "      <td>BTC</td>\n",
              "      <td>2013-04-30 23:59:59</td>\n",
              "      <td>146.929993</td>\n",
              "      <td>134.050003</td>\n",
              "      <td>144.000000</td>\n",
              "      <td>139.000000</td>\n",
              "      <td>0.0</td>\n",
              "      <td>1.542813e+09</td>\n",
              "    </tr>\n",
              "    <tr>\n",
              "      <th>2</th>\n",
              "      <td>3</td>\n",
              "      <td>Bitcoin</td>\n",
              "      <td>BTC</td>\n",
              "      <td>2013-05-01 23:59:59</td>\n",
              "      <td>139.889999</td>\n",
              "      <td>107.720001</td>\n",
              "      <td>139.000000</td>\n",
              "      <td>116.989998</td>\n",
              "      <td>0.0</td>\n",
              "      <td>1.298955e+09</td>\n",
              "    </tr>\n",
              "    <tr>\n",
              "      <th>3</th>\n",
              "      <td>4</td>\n",
              "      <td>Bitcoin</td>\n",
              "      <td>BTC</td>\n",
              "      <td>2013-05-02 23:59:59</td>\n",
              "      <td>125.599998</td>\n",
              "      <td>92.281898</td>\n",
              "      <td>116.379997</td>\n",
              "      <td>105.209999</td>\n",
              "      <td>0.0</td>\n",
              "      <td>1.168517e+09</td>\n",
              "    </tr>\n",
              "    <tr>\n",
              "      <th>4</th>\n",
              "      <td>5</td>\n",
              "      <td>Bitcoin</td>\n",
              "      <td>BTC</td>\n",
              "      <td>2013-05-03 23:59:59</td>\n",
              "      <td>108.127998</td>\n",
              "      <td>79.099998</td>\n",
              "      <td>106.250000</td>\n",
              "      <td>97.750000</td>\n",
              "      <td>0.0</td>\n",
              "      <td>1.085995e+09</td>\n",
              "    </tr>\n",
              "  </tbody>\n",
              "</table>\n",
              "</div>\n",
              "      <button class=\"colab-df-convert\" onclick=\"convertToInteractive('df-3f1f30a0-3e6f-414b-803d-75ddb8327736')\"\n",
              "              title=\"Convert this dataframe to an interactive table.\"\n",
              "              style=\"display:none;\">\n",
              "        \n",
              "  <svg xmlns=\"http://www.w3.org/2000/svg\" height=\"24px\"viewBox=\"0 0 24 24\"\n",
              "       width=\"24px\">\n",
              "    <path d=\"M0 0h24v24H0V0z\" fill=\"none\"/>\n",
              "    <path d=\"M18.56 5.44l.94 2.06.94-2.06 2.06-.94-2.06-.94-.94-2.06-.94 2.06-2.06.94zm-11 1L8.5 8.5l.94-2.06 2.06-.94-2.06-.94L8.5 2.5l-.94 2.06-2.06.94zm10 10l.94 2.06.94-2.06 2.06-.94-2.06-.94-.94-2.06-.94 2.06-2.06.94z\"/><path d=\"M17.41 7.96l-1.37-1.37c-.4-.4-.92-.59-1.43-.59-.52 0-1.04.2-1.43.59L10.3 9.45l-7.72 7.72c-.78.78-.78 2.05 0 2.83L4 21.41c.39.39.9.59 1.41.59.51 0 1.02-.2 1.41-.59l7.78-7.78 2.81-2.81c.8-.78.8-2.07 0-2.86zM5.41 20L4 18.59l7.72-7.72 1.47 1.35L5.41 20z\"/>\n",
              "  </svg>\n",
              "      </button>\n",
              "      \n",
              "  <style>\n",
              "    .colab-df-container {\n",
              "      display:flex;\n",
              "      flex-wrap:wrap;\n",
              "      gap: 12px;\n",
              "    }\n",
              "\n",
              "    .colab-df-convert {\n",
              "      background-color: #E8F0FE;\n",
              "      border: none;\n",
              "      border-radius: 50%;\n",
              "      cursor: pointer;\n",
              "      display: none;\n",
              "      fill: #1967D2;\n",
              "      height: 32px;\n",
              "      padding: 0 0 0 0;\n",
              "      width: 32px;\n",
              "    }\n",
              "\n",
              "    .colab-df-convert:hover {\n",
              "      background-color: #E2EBFA;\n",
              "      box-shadow: 0px 1px 2px rgba(60, 64, 67, 0.3), 0px 1px 3px 1px rgba(60, 64, 67, 0.15);\n",
              "      fill: #174EA6;\n",
              "    }\n",
              "\n",
              "    [theme=dark] .colab-df-convert {\n",
              "      background-color: #3B4455;\n",
              "      fill: #D2E3FC;\n",
              "    }\n",
              "\n",
              "    [theme=dark] .colab-df-convert:hover {\n",
              "      background-color: #434B5C;\n",
              "      box-shadow: 0px 1px 3px 1px rgba(0, 0, 0, 0.15);\n",
              "      filter: drop-shadow(0px 1px 2px rgba(0, 0, 0, 0.3));\n",
              "      fill: #FFFFFF;\n",
              "    }\n",
              "  </style>\n",
              "\n",
              "      <script>\n",
              "        const buttonEl =\n",
              "          document.querySelector('#df-3f1f30a0-3e6f-414b-803d-75ddb8327736 button.colab-df-convert');\n",
              "        buttonEl.style.display =\n",
              "          google.colab.kernel.accessAllowed ? 'block' : 'none';\n",
              "\n",
              "        async function convertToInteractive(key) {\n",
              "          const element = document.querySelector('#df-3f1f30a0-3e6f-414b-803d-75ddb8327736');\n",
              "          const dataTable =\n",
              "            await google.colab.kernel.invokeFunction('convertToInteractive',\n",
              "                                                     [key], {});\n",
              "          if (!dataTable) return;\n",
              "\n",
              "          const docLinkHtml = 'Like what you see? Visit the ' +\n",
              "            '<a target=\"_blank\" href=https://colab.research.google.com/notebooks/data_table.ipynb>data table notebook</a>'\n",
              "            + ' to learn more about interactive tables.';\n",
              "          element.innerHTML = '';\n",
              "          dataTable['output_type'] = 'display_data';\n",
              "          await google.colab.output.renderOutput(dataTable, element);\n",
              "          const docLink = document.createElement('div');\n",
              "          docLink.innerHTML = docLinkHtml;\n",
              "          element.appendChild(docLink);\n",
              "        }\n",
              "      </script>\n",
              "    </div>\n",
              "  </div>\n",
              "  "
            ]
          },
          "metadata": {},
          "execution_count": 8
        }
      ]
    },
    {
      "cell_type": "markdown",
      "metadata": {
        "id": "O5uRBOccur0q"
      },
      "source": [
        "Com a tabela carregada, fazemos a coluna \"Date\" ser o index (eixo x) com pd.to_datetime(table_data['Date'])\n",
        "\n",
        "Ps: o uso da palavra Date é devido ao uso dela como cabeçalho no arquivo CSV"
      ]
    },
    {
      "cell_type": "code",
      "metadata": {
        "id": "ZoVxUd3uur0r"
      },
      "source": [
        "table_data['Date'] = pd.to_datetime(table_data['Date'])"
      ],
      "execution_count": null,
      "outputs": []
    },
    {
      "cell_type": "markdown",
      "metadata": {
        "id": "LAc4p2ulur0r"
      },
      "source": [
        "Agora redmensionamos a tabela para haver somente as colunas \"Date\" e \"Close\""
      ]
    },
    {
      "cell_type": "code",
      "metadata": {
        "id": "XsnSvxBRur0r"
      },
      "source": [
        "time_axis = table_data.set_index('Date')['Close']"
      ],
      "execution_count": null,
      "outputs": []
    },
    {
      "cell_type": "markdown",
      "metadata": {
        "id": "km1lCdJhur0s"
      },
      "source": [
        "Com a tabela redimensionada, podemos plotar as amostras usando a função plot() da pandas para o ano de 2017"
      ]
    },
    {
      "cell_type": "code",
      "metadata": {
        "colab": {
          "base_uri": "https://localhost:8080/",
          "height": 277
        },
        "id": "OxKuOkJYur0s",
        "outputId": "11ea4222-858b-4671-92aa-3f50a4cb2ca8"
      },
      "source": [
        "time_axis['2017'].plot(style='o--');"
      ],
      "execution_count": null,
      "outputs": [
        {
          "output_type": "display_data",
          "data": {
            "text/plain": [
              "<Figure size 432x288 with 1 Axes>"
            ],
            "image/png": "[encoded data removed]"
          },
          "metadata": {
            "needs_background": "light"
          }
        }
      ]
    },
    {
      "cell_type": "markdown",
      "metadata": {
        "id": "HLjzaBq2ur0t"
      },
      "source": [
        "Como um values e index values de Series da lib pandas (no caso time_axis) é um tipo ndarray da Numpy, como pode ser visto no código a seguir. Sendo assim, pode-se trabalhar com Numpy e matplotlib facilmente."
      ]
    },
    {
      "cell_type": "code",
      "metadata": {
        "colab": {
          "base_uri": "https://localhost:8080/"
        },
        "id": "uJOyoYIIur0t",
        "outputId": "8932b846-5b30-4edf-b0cc-6086e06afbdd"
      },
      "source": [
        "type(time_axis.values)"
      ],
      "execution_count": null,
      "outputs": [
        {
          "output_type": "execute_result",
          "data": {
            "text/plain": [
              "numpy.ndarray"
            ]
          },
          "metadata": {},
          "execution_count": 12
        }
      ]
    },
    {
      "cell_type": "markdown",
      "metadata": {
        "id": "_yq3DTmm4_WN"
      },
      "source": [
        "# Análise das implementações - Responda\n",
        "Agora faça uma análise sobre a questão de analisar os dados e de filtrar informações relevantes que seja úteis para a aplicação."
      ]
    },
    {
      "cell_type": "markdown",
      "metadata": {
        "id": "vVNKRKEWDXEV"
      },
      "source": [
        "#### Sua Resposta: "
      ]
    },
    {
      "cell_type": "markdown",
      "source": [
        "# Exercício\n",
        "\n",
        "Com base na implementação anterior, analíse os dados existentes em (escolha 1):\n",
        "\n",
        "Time Series IOT: https://www.kaggle.com/datasets/vetrirah/ml-iot?select=train_ML_IOT.csv \n",
        "\n",
        "Room Occupancy detection data (IoT sensor): https://www.kaggle.com/datasets/kukuroo3/room-occupancy-detection-data-iot-sensor\n",
        "\n",
        "Temperature Readings : IOT Devices: https://www.kaggle.com/datasets/atulanandjha/temperature-readings-iot-devices\n",
        "\n",
        "A ideia é que você consiga explorar os atributos e olhar a disperção dos dados temporalmente. Explore todos as combinações de atributos (colunas) e veja o comportamento dos dados."
      ],
      "metadata": {
        "id": "F4IabQlnS99o"
      }
    },
    {
      "cell_type": "markdown",
      "metadata": {
        "id": "_U2Bcpx1ur0w"
      },
      "source": [
        "# 2. Análise de dados\n",
        "\n",
        "Agora, veremos um exemplo de análise de dados usando um conjunto de dados do livro do James _(An Introduction to Statistical Learning)_.\n",
        "\n",
        "Carregue os dados usando o comando abaixo. Lembre que a variável-alvo (rótulo, variável de saída) é a coluna `sales`."
      ]
    },
    {
      "cell_type": "code",
      "metadata": {
        "colab": {
          "base_uri": "https://localhost:8080/",
          "height": 206
        },
        "id": "8nnR46LNur0w",
        "outputId": "046b2fde-4420-4e79-e9e5-5d1bdf37b3e4"
      },
      "source": [
        "df_data_analysis = pd.read_csv('http://www.statlearning.com/s/Advertising.csv', index_col=0)\n",
        "df_data_analysis.head() "
      ],
      "execution_count": null,
      "outputs": [
        {
          "output_type": "execute_result",
          "data": {
            "text/plain": [
              "      TV  radio  newspaper  sales\n",
              "1  230.1   37.8       69.2   22.1\n",
              "2   44.5   39.3       45.1   10.4\n",
              "3   17.2   45.9       69.3    9.3\n",
              "4  151.5   41.3       58.5   18.5\n",
              "5  180.8   10.8       58.4   12.9"
            ],
            "text/html": [
              "\n",
              "  <div id=\"df-b5f7abfd-7a29-4f83-8258-22af6631d447\">\n",
              "    <div class=\"colab-df-container\">\n",
              "      <div>\n",
              "<style scoped>\n",
              "    .dataframe tbody tr th:only-of-type {\n",
              "        vertical-align: middle;\n",
              "    }\n",
              "\n",
              "    .dataframe tbody tr th {\n",
              "        vertical-align: top;\n",
              "    }\n",
              "\n",
              "    .dataframe thead th {\n",
              "        text-align: right;\n",
              "    }\n",
              "</style>\n",
              "<table border=\"1\" class=\"dataframe\">\n",
              "  <thead>\n",
              "    <tr style=\"text-align: right;\">\n",
              "      <th></th>\n",
              "      <th>TV</th>\n",
              "      <th>radio</th>\n",
              "      <th>newspaper</th>\n",
              "      <th>sales</th>\n",
              "    </tr>\n",
              "  </thead>\n",
              "  <tbody>\n",
              "    <tr>\n",
              "      <th>1</th>\n",
              "      <td>230.1</td>\n",
              "      <td>37.8</td>\n",
              "      <td>69.2</td>\n",
              "      <td>22.1</td>\n",
              "    </tr>\n",
              "    <tr>\n",
              "      <th>2</th>\n",
              "      <td>44.5</td>\n",
              "      <td>39.3</td>\n",
              "      <td>45.1</td>\n",
              "      <td>10.4</td>\n",
              "    </tr>\n",
              "    <tr>\n",
              "      <th>3</th>\n",
              "      <td>17.2</td>\n",
              "      <td>45.9</td>\n",
              "      <td>69.3</td>\n",
              "      <td>9.3</td>\n",
              "    </tr>\n",
              "    <tr>\n",
              "      <th>4</th>\n",
              "      <td>151.5</td>\n",
              "      <td>41.3</td>\n",
              "      <td>58.5</td>\n",
              "      <td>18.5</td>\n",
              "    </tr>\n",
              "    <tr>\n",
              "      <th>5</th>\n",
              "      <td>180.8</td>\n",
              "      <td>10.8</td>\n",
              "      <td>58.4</td>\n",
              "      <td>12.9</td>\n",
              "    </tr>\n",
              "  </tbody>\n",
              "</table>\n",
              "</div>\n",
              "      <button class=\"colab-df-convert\" onclick=\"convertToInteractive('df-b5f7abfd-7a29-4f83-8258-22af6631d447')\"\n",
              "              title=\"Convert this dataframe to an interactive table.\"\n",
              "              style=\"display:none;\">\n",
              "        \n",
              "  <svg xmlns=\"http://www.w3.org/2000/svg\" height=\"24px\"viewBox=\"0 0 24 24\"\n",
              "       width=\"24px\">\n",
              "    <path d=\"M0 0h24v24H0V0z\" fill=\"none\"/>\n",
              "    <path d=\"M18.56 5.44l.94 2.06.94-2.06 2.06-.94-2.06-.94-.94-2.06-.94 2.06-2.06.94zm-11 1L8.5 8.5l.94-2.06 2.06-.94-2.06-.94L8.5 2.5l-.94 2.06-2.06.94zm10 10l.94 2.06.94-2.06 2.06-.94-2.06-.94-.94-2.06-.94 2.06-2.06.94z\"/><path d=\"M17.41 7.96l-1.37-1.37c-.4-.4-.92-.59-1.43-.59-.52 0-1.04.2-1.43.59L10.3 9.45l-7.72 7.72c-.78.78-.78 2.05 0 2.83L4 21.41c.39.39.9.59 1.41.59.51 0 1.02-.2 1.41-.59l7.78-7.78 2.81-2.81c.8-.78.8-2.07 0-2.86zM5.41 20L4 18.59l7.72-7.72 1.47 1.35L5.41 20z\"/>\n",
              "  </svg>\n",
              "      </button>\n",
              "      \n",
              "  <style>\n",
              "    .colab-df-container {\n",
              "      display:flex;\n",
              "      flex-wrap:wrap;\n",
              "      gap: 12px;\n",
              "    }\n",
              "\n",
              "    .colab-df-convert {\n",
              "      background-color: #E8F0FE;\n",
              "      border: none;\n",
              "      border-radius: 50%;\n",
              "      cursor: pointer;\n",
              "      display: none;\n",
              "      fill: #1967D2;\n",
              "      height: 32px;\n",
              "      padding: 0 0 0 0;\n",
              "      width: 32px;\n",
              "    }\n",
              "\n",
              "    .colab-df-convert:hover {\n",
              "      background-color: #E2EBFA;\n",
              "      box-shadow: 0px 1px 2px rgba(60, 64, 67, 0.3), 0px 1px 3px 1px rgba(60, 64, 67, 0.15);\n",
              "      fill: #174EA6;\n",
              "    }\n",
              "\n",
              "    [theme=dark] .colab-df-convert {\n",
              "      background-color: #3B4455;\n",
              "      fill: #D2E3FC;\n",
              "    }\n",
              "\n",
              "    [theme=dark] .colab-df-convert:hover {\n",
              "      background-color: #434B5C;\n",
              "      box-shadow: 0px 1px 3px 1px rgba(0, 0, 0, 0.15);\n",
              "      filter: drop-shadow(0px 1px 2px rgba(0, 0, 0, 0.3));\n",
              "      fill: #FFFFFF;\n",
              "    }\n",
              "  </style>\n",
              "\n",
              "      <script>\n",
              "        const buttonEl =\n",
              "          document.querySelector('#df-b5f7abfd-7a29-4f83-8258-22af6631d447 button.colab-df-convert');\n",
              "        buttonEl.style.display =\n",
              "          google.colab.kernel.accessAllowed ? 'block' : 'none';\n",
              "\n",
              "        async function convertToInteractive(key) {\n",
              "          const element = document.querySelector('#df-b5f7abfd-7a29-4f83-8258-22af6631d447');\n",
              "          const dataTable =\n",
              "            await google.colab.kernel.invokeFunction('convertToInteractive',\n",
              "                                                     [key], {});\n",
              "          if (!dataTable) return;\n",
              "\n",
              "          const docLinkHtml = 'Like what you see? Visit the ' +\n",
              "            '<a target=\"_blank\" href=https://colab.research.google.com/notebooks/data_table.ipynb>data table notebook</a>'\n",
              "            + ' to learn more about interactive tables.';\n",
              "          element.innerHTML = '';\n",
              "          dataTable['output_type'] = 'display_data';\n",
              "          await google.colab.output.renderOutput(dataTable, element);\n",
              "          const docLink = document.createElement('div');\n",
              "          docLink.innerHTML = docLinkHtml;\n",
              "          element.appendChild(docLink);\n",
              "        }\n",
              "      </script>\n",
              "    </div>\n",
              "  </div>\n",
              "  "
            ]
          },
          "metadata": {},
          "execution_count": 13
        }
      ]
    },
    {
      "cell_type": "markdown",
      "metadata": {
        "id": "N056CLe3ur0x"
      },
      "source": [
        "Iremos:\n",
        "1. Traçar o histograma de cada variável (coluna), i.e., 4 no total. Para isso, utilize a função `plt.hist()`, com parâmetro `bins=30`.\n",
        "2. Calcular a matriz de correlação entre as colunas. Dica: utilize a função `pd.DataFrame.corr()`\n",
        "3. Para cada atributo (variável de entrada), traçar o gráfico do valor-alvo em função do atributo. Utilize um *scatter plot*, i.e., trace apenas os marcadores, não linhas.\n",
        "4. O que você já pode afirmar sobre os dados a partir dessa análise exploratória?"
      ]
    },
    {
      "cell_type": "markdown",
      "metadata": {
        "id": "Grqdd7skur0x"
      },
      "source": [
        "Após carregar os dados, foi então isolado os valores de cada coluna (representando cada produto), possibilitando a plotagem do histograma."
      ]
    },
    {
      "cell_type": "code",
      "metadata": {
        "id": "-ui7Ovr-ur0y"
      },
      "source": [
        "tv_values = df_data_analysis['TV'].values\n",
        "radio_values = df_data_analysis['radio'].values\n",
        "newspaper_values = df_data_analysis['newspaper'].values\n",
        "sales_values = df_data_analysis['sales'].values"
      ],
      "execution_count": null,
      "outputs": []
    },
    {
      "cell_type": "markdown",
      "metadata": {
        "id": "xluFeKtZur0y"
      },
      "source": [
        "Após é feita a plotagem de cada histograma (https://pt.wikipedia.org/wiki/Histograma), começando pelo da TV, seguido pelo radio, newspaper e Sales:"
      ]
    },
    {
      "cell_type": "code",
      "metadata": {
        "colab": {
          "base_uri": "https://localhost:8080/",
          "height": 265
        },
        "id": "hzkiikcnur0y",
        "outputId": "9a35215a-0013-40e7-9d1b-72a5e1ee8bc6"
      },
      "source": [
        "plt.hist(tv_values,bins=30,label = 'TV')\n",
        "plt.legend(loc='upper right')\n",
        "plt.show()"
      ],
      "execution_count": null,
      "outputs": [
        {
          "output_type": "display_data",
          "data": {
            "text/plain": [
              "<Figure size 432x288 with 1 Axes>"
            ],
            "image/png": "[encoded data removed]"
          },
          "metadata": {
            "needs_background": "light"
          }
        }
      ]
    },
    {
      "cell_type": "code",
      "metadata": {
        "colab": {
          "base_uri": "https://localhost:8080/",
          "height": 265
        },
        "id": "sLJV9feyur0y",
        "outputId": "1e917e73-a304-4612-d369-cf6fc1f9d05b"
      },
      "source": [
        "plt.hist(radio_values,bins=30,label = 'Radio')\n",
        "plt.legend(loc='upper right')\n",
        "plt.show()"
      ],
      "execution_count": null,
      "outputs": [
        {
          "output_type": "display_data",
          "data": {
            "text/plain": [
              "<Figure size 432x288 with 1 Axes>"
            ],
            "image/png": "[encoded data removed]"
          },
          "metadata": {
            "needs_background": "light"
          }
        }
      ]
    },
    {
      "cell_type": "code",
      "metadata": {
        "colab": {
          "base_uri": "https://localhost:8080/",
          "height": 265
        },
        "id": "SMPSLXzrur0z",
        "outputId": "cd49966d-7679-4ace-85b2-6d979ceb61fd"
      },
      "source": [
        "plt.hist(newspaper_values,bins=30,label = 'Newspaper')\n",
        "plt.legend(loc='upper right')\n",
        "plt.show()"
      ],
      "execution_count": null,
      "outputs": [
        {
          "output_type": "display_data",
          "data": {
            "text/plain": [
              "<Figure size 432x288 with 1 Axes>"
            ],
            "image/png": "[encoded data removed]"
          },
          "metadata": {
            "needs_background": "light"
          }
        }
      ]
    },
    {
      "cell_type": "code",
      "metadata": {
        "colab": {
          "base_uri": "https://localhost:8080/",
          "height": 265
        },
        "id": "Vq-2p3ZPur0z",
        "outputId": "dc0c820a-5fb5-47b8-b74e-861d13894057"
      },
      "source": [
        "plt.hist(sales_values,bins=30,label = 'Sales')\n",
        "plt.legend(loc='upper right')\n",
        "plt.show()"
      ],
      "execution_count": null,
      "outputs": [
        {
          "output_type": "display_data",
          "data": {
            "text/plain": [
              "<Figure size 432x288 with 1 Axes>"
            ],
            "image/png": "[encoded data removed]"
          },
          "metadata": {
            "needs_background": "light"
          }
        }
      ]
    },
    {
      "cell_type": "code",
      "metadata": {
        "colab": {
          "base_uri": "https://localhost:8080/",
          "height": 265
        },
        "id": "T9442UZFur00",
        "outputId": "23488ee9-f6ea-430c-a13d-328aa291c530"
      },
      "source": [
        "plt.hist(tv_values,bins=30,label = 'TV')\n",
        "plt.hist(radio_values,bins=30,label = 'Radio')\n",
        "plt.hist(newspaper_values,bins=30,label = 'Newspaper')\n",
        "plt.hist(sales_values,bins=30,label = 'Sales')\n",
        "plt.legend(loc='upper right')\n",
        "plt.show()"
      ],
      "execution_count": null,
      "outputs": [
        {
          "output_type": "display_data",
          "data": {
            "text/plain": [
              "<Figure size 432x288 with 1 Axes>"
            ],
            "image/png": "[encoded data removed]"
          },
          "metadata": {
            "needs_background": "light"
          }
        }
      ]
    },
    {
      "cell_type": "markdown",
      "metadata": {
        "id": "5-_BIJbcur00"
      },
      "source": [
        "Agora é feito a correlação entre as informações da tabela. Posteriormente é plotado com os marcadores a relação entre a midia e as vendas."
      ]
    },
    {
      "cell_type": "code",
      "metadata": {
        "colab": {
          "base_uri": "https://localhost:8080/",
          "height": 424
        },
        "id": "rZxRG9rour00",
        "outputId": "2b37ba80-486b-4686-a6a1-497ff4627c11"
      },
      "source": [
        "df_data_analysis"
      ],
      "execution_count": null,
      "outputs": [
        {
          "output_type": "execute_result",
          "data": {
            "text/plain": [
              "        TV  radio  newspaper  sales\n",
              "1    230.1   37.8       69.2   22.1\n",
              "2     44.5   39.3       45.1   10.4\n",
              "3     17.2   45.9       69.3    9.3\n",
              "4    151.5   41.3       58.5   18.5\n",
              "5    180.8   10.8       58.4   12.9\n",
              "..     ...    ...        ...    ...\n",
              "196   38.2    3.7       13.8    7.6\n",
              "197   94.2    4.9        8.1    9.7\n",
              "198  177.0    9.3        6.4   12.8\n",
              "199  283.6   42.0       66.2   25.5\n",
              "200  232.1    8.6        8.7   13.4\n",
              "\n",
              "[200 rows x 4 columns]"
            ],
            "text/html": [
              "\n",
              "  <div id=\"df-01a9209b-48c7-4f61-8152-3967f2606f3d\">\n",
              "    <div class=\"colab-df-container\">\n",
              "      <div>\n",
              "<style scoped>\n",
              "    .dataframe tbody tr th:only-of-type {\n",
              "        vertical-align: middle;\n",
              "    }\n",
              "\n",
              "    .dataframe tbody tr th {\n",
              "        vertical-align: top;\n",
              "    }\n",
              "\n",
              "    .dataframe thead th {\n",
              "        text-align: right;\n",
              "    }\n",
              "</style>\n",
              "<table border=\"1\" class=\"dataframe\">\n",
              "  <thead>\n",
              "    <tr style=\"text-align: right;\">\n",
              "      <th></th>\n",
              "      <th>TV</th>\n",
              "      <th>radio</th>\n",
              "      <th>newspaper</th>\n",
              "      <th>sales</th>\n",
              "    </tr>\n",
              "  </thead>\n",
              "  <tbody>\n",
              "    <tr>\n",
              "      <th>1</th>\n",
              "      <td>230.1</td>\n",
              "      <td>37.8</td>\n",
              "      <td>69.2</td>\n",
              "      <td>22.1</td>\n",
              "    </tr>\n",
              "    <tr>\n",
              "      <th>2</th>\n",
              "      <td>44.5</td>\n",
              "      <td>39.3</td>\n",
              "      <td>45.1</td>\n",
              "      <td>10.4</td>\n",
              "    </tr>\n",
              "    <tr>\n",
              "      <th>3</th>\n",
              "      <td>17.2</td>\n",
              "      <td>45.9</td>\n",
              "      <td>69.3</td>\n",
              "      <td>9.3</td>\n",
              "    </tr>\n",
              "    <tr>\n",
              "      <th>4</th>\n",
              "      <td>151.5</td>\n",
              "      <td>41.3</td>\n",
              "      <td>58.5</td>\n",
              "      <td>18.5</td>\n",
              "    </tr>\n",
              "    <tr>\n",
              "      <th>5</th>\n",
              "      <td>180.8</td>\n",
              "      <td>10.8</td>\n",
              "      <td>58.4</td>\n",
              "      <td>12.9</td>\n",
              "    </tr>\n",
              "    <tr>\n",
              "      <th>...</th>\n",
              "      <td>...</td>\n",
              "      <td>...</td>\n",
              "      <td>...</td>\n",
              "      <td>...</td>\n",
              "    </tr>\n",
              "    <tr>\n",
              "      <th>196</th>\n",
              "      <td>38.2</td>\n",
              "      <td>3.7</td>\n",
              "      <td>13.8</td>\n",
              "      <td>7.6</td>\n",
              "    </tr>\n",
              "    <tr>\n",
              "      <th>197</th>\n",
              "      <td>94.2</td>\n",
              "      <td>4.9</td>\n",
              "      <td>8.1</td>\n",
              "      <td>9.7</td>\n",
              "    </tr>\n",
              "    <tr>\n",
              "      <th>198</th>\n",
              "      <td>177.0</td>\n",
              "      <td>9.3</td>\n",
              "      <td>6.4</td>\n",
              "      <td>12.8</td>\n",
              "    </tr>\n",
              "    <tr>\n",
              "      <th>199</th>\n",
              "      <td>283.6</td>\n",
              "      <td>42.0</td>\n",
              "      <td>66.2</td>\n",
              "      <td>25.5</td>\n",
              "    </tr>\n",
              "    <tr>\n",
              "      <th>200</th>\n",
              "      <td>232.1</td>\n",
              "      <td>8.6</td>\n",
              "      <td>8.7</td>\n",
              "      <td>13.4</td>\n",
              "    </tr>\n",
              "  </tbody>\n",
              "</table>\n",
              "<p>200 rows × 4 columns</p>\n",
              "</div>\n",
              "      <button class=\"colab-df-convert\" onclick=\"convertToInteractive('df-01a9209b-48c7-4f61-8152-3967f2606f3d')\"\n",
              "              title=\"Convert this dataframe to an interactive table.\"\n",
              "              style=\"display:none;\">\n",
              "        \n",
              "  <svg xmlns=\"http://www.w3.org/2000/svg\" height=\"24px\"viewBox=\"0 0 24 24\"\n",
              "       width=\"24px\">\n",
              "    <path d=\"M0 0h24v24H0V0z\" fill=\"none\"/>\n",
              "    <path d=\"M18.56 5.44l.94 2.06.94-2.06 2.06-.94-2.06-.94-.94-2.06-.94 2.06-2.06.94zm-11 1L8.5 8.5l.94-2.06 2.06-.94-2.06-.94L8.5 2.5l-.94 2.06-2.06.94zm10 10l.94 2.06.94-2.06 2.06-.94-2.06-.94-.94-2.06-.94 2.06-2.06.94z\"/><path d=\"M17.41 7.96l-1.37-1.37c-.4-.4-.92-.59-1.43-.59-.52 0-1.04.2-1.43.59L10.3 9.45l-7.72 7.72c-.78.78-.78 2.05 0 2.83L4 21.41c.39.39.9.59 1.41.59.51 0 1.02-.2 1.41-.59l7.78-7.78 2.81-2.81c.8-.78.8-2.07 0-2.86zM5.41 20L4 18.59l7.72-7.72 1.47 1.35L5.41 20z\"/>\n",
              "  </svg>\n",
              "      </button>\n",
              "      \n",
              "  <style>\n",
              "    .colab-df-container {\n",
              "      display:flex;\n",
              "      flex-wrap:wrap;\n",
              "      gap: 12px;\n",
              "    }\n",
              "\n",
              "    .colab-df-convert {\n",
              "      background-color: #E8F0FE;\n",
              "      border: none;\n",
              "      border-radius: 50%;\n",
              "      cursor: pointer;\n",
              "      display: none;\n",
              "      fill: #1967D2;\n",
              "      height: 32px;\n",
              "      padding: 0 0 0 0;\n",
              "      width: 32px;\n",
              "    }\n",
              "\n",
              "    .colab-df-convert:hover {\n",
              "      background-color: #E2EBFA;\n",
              "      box-shadow: 0px 1px 2px rgba(60, 64, 67, 0.3), 0px 1px 3px 1px rgba(60, 64, 67, 0.15);\n",
              "      fill: #174EA6;\n",
              "    }\n",
              "\n",
              "    [theme=dark] .colab-df-convert {\n",
              "      background-color: #3B4455;\n",
              "      fill: #D2E3FC;\n",
              "    }\n",
              "\n",
              "    [theme=dark] .colab-df-convert:hover {\n",
              "      background-color: #434B5C;\n",
              "      box-shadow: 0px 1px 3px 1px rgba(0, 0, 0, 0.15);\n",
              "      filter: drop-shadow(0px 1px 2px rgba(0, 0, 0, 0.3));\n",
              "      fill: #FFFFFF;\n",
              "    }\n",
              "  </style>\n",
              "\n",
              "      <script>\n",
              "        const buttonEl =\n",
              "          document.querySelector('#df-01a9209b-48c7-4f61-8152-3967f2606f3d button.colab-df-convert');\n",
              "        buttonEl.style.display =\n",
              "          google.colab.kernel.accessAllowed ? 'block' : 'none';\n",
              "\n",
              "        async function convertToInteractive(key) {\n",
              "          const element = document.querySelector('#df-01a9209b-48c7-4f61-8152-3967f2606f3d');\n",
              "          const dataTable =\n",
              "            await google.colab.kernel.invokeFunction('convertToInteractive',\n",
              "                                                     [key], {});\n",
              "          if (!dataTable) return;\n",
              "\n",
              "          const docLinkHtml = 'Like what you see? Visit the ' +\n",
              "            '<a target=\"_blank\" href=https://colab.research.google.com/notebooks/data_table.ipynb>data table notebook</a>'\n",
              "            + ' to learn more about interactive tables.';\n",
              "          element.innerHTML = '';\n",
              "          dataTable['output_type'] = 'display_data';\n",
              "          await google.colab.output.renderOutput(dataTable, element);\n",
              "          const docLink = document.createElement('div');\n",
              "          docLink.innerHTML = docLinkHtml;\n",
              "          element.appendChild(docLink);\n",
              "        }\n",
              "      </script>\n",
              "    </div>\n",
              "  </div>\n",
              "  "
            ]
          },
          "metadata": {},
          "execution_count": 20
        }
      ]
    },
    {
      "cell_type": "code",
      "metadata": {
        "colab": {
          "base_uri": "https://localhost:8080/",
          "height": 175
        },
        "id": "BlK2VRjrur01",
        "outputId": "e1397c00-6e16-4df1-8a1f-6ba8313b6c2a"
      },
      "source": [
        "df_data_analysis.corr(method='spearman') #pearson kendall spearman"
      ],
      "execution_count": null,
      "outputs": [
        {
          "output_type": "execute_result",
          "data": {
            "text/plain": [
              "                 TV     radio  newspaper     sales\n",
              "TV         1.000000  0.056123   0.050840  0.800614\n",
              "radio      0.056123  1.000000   0.316979  0.554304\n",
              "newspaper  0.050840  0.316979   1.000000  0.194922\n",
              "sales      0.800614  0.554304   0.194922  1.000000"
            ],
            "text/html": [
              "\n",
              "  <div id=\"df-b2895ce0-4f00-4d7a-a713-c98ad3a21136\">\n",
              "    <div class=\"colab-df-container\">\n",
              "      <div>\n",
              "<style scoped>\n",
              "    .dataframe tbody tr th:only-of-type {\n",
              "        vertical-align: middle;\n",
              "    }\n",
              "\n",
              "    .dataframe tbody tr th {\n",
              "        vertical-align: top;\n",
              "    }\n",
              "\n",
              "    .dataframe thead th {\n",
              "        text-align: right;\n",
              "    }\n",
              "</style>\n",
              "<table border=\"1\" class=\"dataframe\">\n",
              "  <thead>\n",
              "    <tr style=\"text-align: right;\">\n",
              "      <th></th>\n",
              "      <th>TV</th>\n",
              "      <th>radio</th>\n",
              "      <th>newspaper</th>\n",
              "      <th>sales</th>\n",
              "    </tr>\n",
              "  </thead>\n",
              "  <tbody>\n",
              "    <tr>\n",
              "      <th>TV</th>\n",
              "      <td>1.000000</td>\n",
              "      <td>0.056123</td>\n",
              "      <td>0.050840</td>\n",
              "      <td>0.800614</td>\n",
              "    </tr>\n",
              "    <tr>\n",
              "      <th>radio</th>\n",
              "      <td>0.056123</td>\n",
              "      <td>1.000000</td>\n",
              "      <td>0.316979</td>\n",
              "      <td>0.554304</td>\n",
              "    </tr>\n",
              "    <tr>\n",
              "      <th>newspaper</th>\n",
              "      <td>0.050840</td>\n",
              "      <td>0.316979</td>\n",
              "      <td>1.000000</td>\n",
              "      <td>0.194922</td>\n",
              "    </tr>\n",
              "    <tr>\n",
              "      <th>sales</th>\n",
              "      <td>0.800614</td>\n",
              "      <td>0.554304</td>\n",
              "      <td>0.194922</td>\n",
              "      <td>1.000000</td>\n",
              "    </tr>\n",
              "  </tbody>\n",
              "</table>\n",
              "</div>\n",
              "      <button class=\"colab-df-convert\" onclick=\"convertToInteractive('df-b2895ce0-4f00-4d7a-a713-c98ad3a21136')\"\n",
              "              title=\"Convert this dataframe to an interactive table.\"\n",
              "              style=\"display:none;\">\n",
              "        \n",
              "  <svg xmlns=\"http://www.w3.org/2000/svg\" height=\"24px\"viewBox=\"0 0 24 24\"\n",
              "       width=\"24px\">\n",
              "    <path d=\"M0 0h24v24H0V0z\" fill=\"none\"/>\n",
              "    <path d=\"M18.56 5.44l.94 2.06.94-2.06 2.06-.94-2.06-.94-.94-2.06-.94 2.06-2.06.94zm-11 1L8.5 8.5l.94-2.06 2.06-.94-2.06-.94L8.5 2.5l-.94 2.06-2.06.94zm10 10l.94 2.06.94-2.06 2.06-.94-2.06-.94-.94-2.06-.94 2.06-2.06.94z\"/><path d=\"M17.41 7.96l-1.37-1.37c-.4-.4-.92-.59-1.43-.59-.52 0-1.04.2-1.43.59L10.3 9.45l-7.72 7.72c-.78.78-.78 2.05 0 2.83L4 21.41c.39.39.9.59 1.41.59.51 0 1.02-.2 1.41-.59l7.78-7.78 2.81-2.81c.8-.78.8-2.07 0-2.86zM5.41 20L4 18.59l7.72-7.72 1.47 1.35L5.41 20z\"/>\n",
              "  </svg>\n",
              "      </button>\n",
              "      \n",
              "  <style>\n",
              "    .colab-df-container {\n",
              "      display:flex;\n",
              "      flex-wrap:wrap;\n",
              "      gap: 12px;\n",
              "    }\n",
              "\n",
              "    .colab-df-convert {\n",
              "      background-color: #E8F0FE;\n",
              "      border: none;\n",
              "      border-radius: 50%;\n",
              "      cursor: pointer;\n",
              "      display: none;\n",
              "      fill: #1967D2;\n",
              "      height: 32px;\n",
              "      padding: 0 0 0 0;\n",
              "      width: 32px;\n",
              "    }\n",
              "\n",
              "    .colab-df-convert:hover {\n",
              "      background-color: #E2EBFA;\n",
              "      box-shadow: 0px 1px 2px rgba(60, 64, 67, 0.3), 0px 1px 3px 1px rgba(60, 64, 67, 0.15);\n",
              "      fill: #174EA6;\n",
              "    }\n",
              "\n",
              "    [theme=dark] .colab-df-convert {\n",
              "      background-color: #3B4455;\n",
              "      fill: #D2E3FC;\n",
              "    }\n",
              "\n",
              "    [theme=dark] .colab-df-convert:hover {\n",
              "      background-color: #434B5C;\n",
              "      box-shadow: 0px 1px 3px 1px rgba(0, 0, 0, 0.15);\n",
              "      filter: drop-shadow(0px 1px 2px rgba(0, 0, 0, 0.3));\n",
              "      fill: #FFFFFF;\n",
              "    }\n",
              "  </style>\n",
              "\n",
              "      <script>\n",
              "        const buttonEl =\n",
              "          document.querySelector('#df-b2895ce0-4f00-4d7a-a713-c98ad3a21136 button.colab-df-convert');\n",
              "        buttonEl.style.display =\n",
              "          google.colab.kernel.accessAllowed ? 'block' : 'none';\n",
              "\n",
              "        async function convertToInteractive(key) {\n",
              "          const element = document.querySelector('#df-b2895ce0-4f00-4d7a-a713-c98ad3a21136');\n",
              "          const dataTable =\n",
              "            await google.colab.kernel.invokeFunction('convertToInteractive',\n",
              "                                                     [key], {});\n",
              "          if (!dataTable) return;\n",
              "\n",
              "          const docLinkHtml = 'Like what you see? Visit the ' +\n",
              "            '<a target=\"_blank\" href=https://colab.research.google.com/notebooks/data_table.ipynb>data table notebook</a>'\n",
              "            + ' to learn more about interactive tables.';\n",
              "          element.innerHTML = '';\n",
              "          dataTable['output_type'] = 'display_data';\n",
              "          await google.colab.output.renderOutput(dataTable, element);\n",
              "          const docLink = document.createElement('div');\n",
              "          docLink.innerHTML = docLinkHtml;\n",
              "          element.appendChild(docLink);\n",
              "        }\n",
              "      </script>\n",
              "    </div>\n",
              "  </div>\n",
              "  "
            ]
          },
          "metadata": {},
          "execution_count": 21
        }
      ]
    },
    {
      "cell_type": "code",
      "metadata": {
        "colab": {
          "base_uri": "https://localhost:8080/",
          "height": 279
        },
        "id": "rzQv3kHfur01",
        "outputId": "852dc45b-9d43-45e0-88be-a560d56b6b07"
      },
      "source": [
        "plt.scatter(tv_values, sales_values,label = 'TV')\n",
        "plt.legend(loc='upper left')\n",
        "plt.xlabel('TV advertising budgets (in thousands)');\n",
        "plt.ylabel('Sales in %');\n",
        "plt.show()"
      ],
      "execution_count": null,
      "outputs": [
        {
          "output_type": "display_data",
          "data": {
            "text/plain": [
              "<Figure size 432x288 with 1 Axes>"
            ],
            "image/png": "[encoded data removed]"
          },
          "metadata": {
            "needs_background": "light"
          }
        }
      ]
    },
    {
      "cell_type": "markdown",
      "metadata": {
        "id": "LTEu2loJ8vx8"
      },
      "source": [
        "Agora plotaremos a disperção de dados do Rádio e Jornal (Newspaper)."
      ]
    },
    {
      "cell_type": "code",
      "metadata": {
        "colab": {
          "base_uri": "https://localhost:8080/",
          "height": 279
        },
        "id": "ACe2zSx_ur01",
        "outputId": "e3998126-cb6d-40d9-ff01-fe7ee7867f74"
      },
      "source": [
        "#implemente aqui a plotagem do radio\n",
        "plt.scatter(radio_values, sales_values,label = 'Radio')\n",
        "plt.legend(loc='upper left')\n",
        "plt.xlabel('TV advertising budgets (in thousands)');\n",
        "plt.ylabel('Sales in %');\n",
        "plt.show()\n"
      ],
      "execution_count": null,
      "outputs": [
        {
          "output_type": "display_data",
          "data": {
            "text/plain": [
              "<Figure size 432x288 with 1 Axes>"
            ],
            "image/png": "[encoded data removed]"
          },
          "metadata": {
            "needs_background": "light"
          }
        }
      ]
    },
    {
      "cell_type": "code",
      "metadata": {
        "colab": {
          "base_uri": "https://localhost:8080/",
          "height": 279
        },
        "id": "Ta0VuqKtur02",
        "outputId": "d06136e8-799c-4d60-82b1-e01a1f50ef43"
      },
      "source": [
        "#implemente aqui a plotagem do jornal\n",
        "plt.scatter(newspaper_values, sales_values,label = 'Newspaper')\n",
        "plt.legend(loc='upper left')\n",
        "plt.xlabel('Newspaper advertising budgets (in thousands)');\n",
        "plt.ylabel('Sales in %');\n",
        "plt.show()\n"
      ],
      "execution_count": null,
      "outputs": [
        {
          "output_type": "display_data",
          "data": {
            "text/plain": [
              "<Figure size 432x288 with 1 Axes>"
            ],
            "image/png": "[encoded data removed]"
          },
          "metadata": {
            "needs_background": "light"
          }
        }
      ]
    },
    {
      "cell_type": "code",
      "metadata": {
        "colab": {
          "base_uri": "https://localhost:8080/",
          "height": 279
        },
        "id": "LD_lRoIlur02",
        "outputId": "df000f7d-3c46-49ac-f998-c020914b5727"
      },
      "source": [
        "#Agora plote as três dispesões em conjunto\n",
        "plt.scatter(tv_values, sales_values,label = 'TV')\n",
        "plt.scatter(newspaper_values, sales_values,label = 'Newspaper')\n",
        "plt.scatter(radio_values, sales_values,label = 'Radio')\n",
        "plt.legend(loc='upper left')\n",
        "plt.xlabel('advertising budgets (in thousands)');\n",
        "plt.ylabel('Sales in %');\n",
        "plt.show()"
      ],
      "execution_count": null,
      "outputs": [
        {
          "output_type": "display_data",
          "data": {
            "image/png": "[encoded data removed]",
            "text/plain": [
              "<Figure size 432x288 with 1 Axes>"
            ]
          },
          "metadata": {
            "tags": [],
            "needs_background": "light"
          }
        }
      ]
    },
    {
      "cell_type": "markdown",
      "metadata": {
        "id": "WuqQMnvour03"
      },
      "source": [
        "# Análise dos dados\n",
        "\n",
        "Escreva uma análise dos dados, observando a relação gasto com publicidade e vendas obtidas. Essa análise é importante para conseguir relacionar o modelo de Regressão."
      ]
    },
    {
      "cell_type": "markdown",
      "metadata": {
        "id": "fYacOK-ODiVR"
      },
      "source": [
        "## Sua Resposta:"
      ]
    },
    {
      "cell_type": "markdown",
      "metadata": {
        "id": "iYyT_kyVur03"
      },
      "source": [
        "# Continuando a modelagem com os dados\n",
        "No código seguinte será feito as seguintes manipulações:\n",
        "\n",
        "5. Extrair a matriz de projeto $\\bX$ e vetor de rótulos $\\by$. Dica: utilize a função do pandas `.to_numpy()`\n",
        "1. Separar o conjunto de dados aleatoriamente em conjuntos de treinamento e teste, nas proporções 80% e 20%, respectivamente. Para isso, utilize a função `train_test_split()` da biblioteca scikit-learn."
      ]
    },
    {
      "cell_type": "markdown",
      "metadata": {
        "id": "w5R_fcY0ur03"
      },
      "source": [
        "Nas duas primeira linhas são selecionados os dados em arrays diferentes. A primeira linha é responsável por copiar, direntamente como um ndarray, a matriz de projeto. Na segunda linha, é copiado o array de rótulos."
      ]
    },
    {
      "cell_type": "code",
      "metadata": {
        "colab": {
          "base_uri": "https://localhost:8080/"
        },
        "id": "KxHZ1i-iur03",
        "outputId": "8b5a5fe3-3743-48ab-a38d-c9ad8e53dda7"
      },
      "source": [
        "#5\n",
        "X = df_data_analysis[['TV','radio','newspaper']].values\n",
        "y = df_data_analysis['sales'].values\n",
        "print(X.shape)\n",
        "print(y.shape)"
      ],
      "execution_count": null,
      "outputs": [
        {
          "output_type": "stream",
          "text": [
            "(200, 3)\n",
            "(200,)\n"
          ],
          "name": "stdout"
        }
      ]
    },
    {
      "cell_type": "markdown",
      "metadata": {
        "id": "dAfIjuXEur04"
      },
      "source": [
        "Para usar a função 'train_test_split()' é passado, como parâmetros, os dois arrays copiados anteriomente, a quantidade (em percentual) de valores que serão usado para testar e um valor para geração de números aleatório (controle da geração), sendo os números inteiros 42 e 0 os mais populares (segundo página da lib)."
      ]
    },
    {
      "cell_type": "code",
      "metadata": {
        "colab": {
          "base_uri": "https://localhost:8080/"
        },
        "id": "vIInNIBzur04",
        "outputId": "dd800111-a0e1-4365-baed-5978498b4bdf"
      },
      "source": [
        "#6\n",
        "from sklearn.model_selection import train_test_split\n",
        "\n",
        "X_train, X_test, y_train, y_test = train_test_split(X, y, test_size=0.2, train_size=0.8,random_state=42) #42 43\n",
        "\n",
        "print(X_train.shape, y_train.shape)\n",
        "print(X_test.shape, y_test.shape)"
      ],
      "execution_count": null,
      "outputs": [
        {
          "output_type": "stream",
          "text": [
            "(160, 3) (160,)\n",
            "(40, 3) (40,)\n"
          ],
          "name": "stdout"
        }
      ]
    },
    {
      "cell_type": "markdown",
      "metadata": {
        "id": "8LvfONkour05"
      },
      "source": [
        "Posteriormente, fazemos:\n",
        "\n",
        "7. Treinar um modelo de regressão linear ([O que é Regressão Linear](https://pt.khanacademy.org/math/statistics-probability/describing-relationships-quantitative-data/introduction-to-trend-lines/a/linear-regression-review#:~:text=Regress%C3%A3o%20linear%20%C3%A9%20o%20processo,em%20um%20diagrama%20de%20dispers%C3%A3o.)) sobre o **conjunto de treinamento**. Para isso, utilize a função `sklearn.linear_model.LinearRegression()` da biblioteca sklearn. \n",
        "7. Calcular a raiz do erro quadrático médio (RMSE) da predição sobre o conjunto de treinamento e sobre o conjunto de teste. Para isso, utilize a função `sklearn.metrics.mean_squared_error()` do sklearn.\n",
        "8. Encontrar alguma forma de visualizar o modelo treinado ou suas predições."
      ]
    },
    {
      "cell_type": "code",
      "metadata": {
        "colab": {
          "base_uri": "https://localhost:8080/"
        },
        "id": "rvGwY_c4ur05",
        "outputId": "ef892365-922e-4ba4-f8cd-55fa38574bac"
      },
      "source": [
        "#7 e 8\n",
        "#import das bibliotecas de modelo para Regressão Linear\n",
        "from sklearn.linear_model import LinearRegression\n",
        "from sklearn.metrics import mean_squared_error\n",
        "\n",
        "#criação do modelo\n",
        "model = LinearRegression()\n",
        "model.fit(X_train, y_train) #treinamento do modelo\n",
        "#print(model.coef_) #usado apenas para validar \n",
        "model_test_train = model.predict(X_train) #predição com o modelo treinado usando o conjunto de treino\n",
        "model_y_pred = model.predict(X_test) #predição com o modelo treinado usando o conjunto de teste\n",
        "print(model.score(X_test, y_test)) #faz uma predição e ao mesmo tempo test pra medir a acurácia\n",
        "print('Train RMSE:', np.sqrt(mean_squared_error(y_train,model_test_train)))\n",
        "print('Test RMSE:', np.sqrt(mean_squared_error(y_test,model_y_pred)))"
      ],
      "execution_count": null,
      "outputs": [
        {
          "output_type": "stream",
          "text": [
            "0.899438024100912\n",
            "Train RMSE: 1.644727765644337\n",
            "Test RMSE: 1.7815996615334502\n"
          ],
          "name": "stdout"
        }
      ]
    },
    {
      "cell_type": "markdown",
      "metadata": {
        "id": "dxdqFSRyur05"
      },
      "source": [
        "Abaixo, é apresentado (graficamente) a predição com o modelo treinado e com os parâmetros de teste para cada tipo de midia.\n",
        "\n",
        "# Atividade \n",
        "\n",
        "Baseado na plotagem dos dados com o modelo treinado, você deve plotar também os dados da radio e do jornal (newspaper)."
      ]
    },
    {
      "cell_type": "code",
      "metadata": {
        "colab": {
          "base_uri": "https://localhost:8080/",
          "height": 581
        },
        "id": "Pl7ExFoyur06",
        "outputId": "027d8480-92bc-4c63-9cd5-ed219e18e163"
      },
      "source": [
        "#9\n",
        "#função criada para criar um modelo e já realizar a plotagem\n",
        "def show_model(X_plot,y_plot, type_test): \n",
        "    ols = LinearRegression()\n",
        "    model_plot = ols.fit(X_plot, y_plot)\n",
        "    response_plot = model_plot.predict(X_plot)\n",
        "\n",
        "    plt.plot(X_plot, response_plot, color='k', label='Regression model')\n",
        "    plt.scatter(X_plot, y_plot, edgecolor='k', facecolor='grey', alpha=0.7, label='Sample data')\n",
        "    plt.ylabel('Sales', fontsize=14)\n",
        "    plt.xlabel('Advertising budgets', fontsize=14)\n",
        "    plt.title(type_test)\n",
        "    plt.show()\n",
        "\n",
        "#função do pandas que pega somente os valores da coluna sales\n",
        "y_plot = df_data_analysis['sales'].values\n",
        "\n",
        "#função do pandas que pega somente os valores da coluna TV e passa pra função acima pra treinamento e plotagem\n",
        "#é usado a função train_test_split para dividir o conjunto de dados do dataset a fim de realizar avaliação do modelo\n",
        "X_plot_TV = df_data_analysis['TV'].values.reshape(-1,1) # o reshape é para transfora em em um vveto 1D de N amostras\n",
        "X_plot_TV_train, X_plot_TV_test, y_plot_TV_train, y_plot_TV_test = train_test_split(X_plot_TV, y_plot, test_size=0.2, train_size=0.8,random_state=42)\n",
        "show_model(X_plot_TV_train,y_plot_TV_train, \"TV Model in training\")\n",
        "show_model(X_plot_TV_test,y_plot_TV_test, \"TV Model in test\")    \n"
      ],
      "execution_count": null,
      "outputs": [
        {
          "output_type": "display_data",
          "data": {
            "image/png": "[encoded data removed]",
            "text/plain": [
              "<Figure size 432x288 with 1 Axes>"
            ]
          },
          "metadata": {
            "tags": [],
            "needs_background": "light"
          }
        },
        {
          "output_type": "display_data",
          "data": {
            "image/png": "[encoded data removed]",
            "text/plain": [
              "<Figure size 432x288 with 1 Axes>"
            ]
          },
          "metadata": {
            "tags": [],
            "needs_background": "light"
          }
        }
      ]
    },
    {
      "cell_type": "markdown",
      "metadata": {
        "id": "msAHJOA5EoZH"
      },
      "source": [
        "# Análise dos Resultados\n",
        "\n",
        "Agora você deve analisar o que você conseguiu perseber com esse modelo de Machine Learning, no caso a Regressão, visando prever valores para vendas baseado em investimento em mídias."
      ]
    },
    {
      "cell_type": "markdown",
      "metadata": {
        "id": "GQduSbm9E8vG"
      },
      "source": [
        "## Sua Resposta:"
      ]
    },
    {
      "cell_type": "markdown",
      "metadata": {
        "id": "Qo3G8ih0ur06"
      },
      "source": [
        "### Dicas\n",
        "\n",
        "- Funções úteis\n",
        "```python\n",
        "pd.hist()\n",
        "pd.DataFrame.corr()\n",
        "pd.DataFrame.to_numpy()\n",
        "sklearn.model_selection.train_test_split()\n",
        "sklearn.linear_model.LinearRegression()\n",
        "sklearn.metrics.mean_squared_error()\n",
        "np.sqrt()\n",
        "```\n",
        "- Caso deseje uma referência, consulte o tutorial disponível em:\n",
        "https://towardsdatascience.com/linear-regression-on-boston-housing-dataset-f409b7e4a155. Note, porém, que não é necessário usar as funções da biblioteca `seaborn`."
      ]
    },
    {
      "cell_type": "markdown",
      "source": [
        "# Exercício\n",
        "\n",
        "Com base no código anterior, onde exploraramos um algoritmo simples, o Regressão Linear, agora você deve fazer essa exploração no dataset:\n",
        "\n",
        "Room Occupancy detection data (IoT sensor): https://www.kaggle.com/datasets/kukuroo3/room-occupancy-detection-data-iot-sensor\n",
        "\n",
        "Veja qual atributo (ou atributos) representa melhor o comportamento de identificar a ocupação de um comodo. \n",
        "\n",
        "Após a análise dos dados e implementação do classificador, responda:\n",
        "\n",
        "  - Todos os atributos são úteis?\n",
        "  - Algum dos atributos mais contamina do que ajuda na regressão?\n",
        "  - 1 atributos apenas é suficiente para fazer essa análise?  Usando uma métrica adequada, você consegue dizer que uma várivel é suficiente para o modelo? Pense que isso ajuda o algoritmo a processar \"mais rápido\"."
      ],
      "metadata": {
        "id": "Q6qXXzgjUrZr"
      }
    },
    {
      "cell_type": "markdown",
      "metadata": {
        "id": "UZrJoqnnur07"
      },
      "source": [
        "# 3. Regressão Logística\n",
        "\n",
        "Agora veremos um forma de aplicar o modelo de Regressão Logística ([O que é Regressão Logística](https://towardsdatascience.com/logistic-regression-detailed-overview-46c4da4303bc)), que é um modelo que melhora a adaptação a dados que não são linearmente separáveis e permite fazer uma predição (classificação) dos mesmos. \n",
        "\n",
        "As funções abaixo são usadas para manipular e plotar dados. Análise as funções (consulte o professor caso não entenda algum comando)."
      ]
    },
    {
      "cell_type": "code",
      "metadata": {
        "colab": {
          "base_uri": "https://localhost:8080/"
        },
        "id": "j-M0jZMfur07",
        "outputId": "319a60f5-1187-4dfe-c3df-4f213e28863e"
      },
      "source": [
        "import numpy as np\n",
        "import matplotlib.pyplot as plt\n",
        "%matplotlib inline\n",
        "import pandas as pd\n",
        "import sklearn as sl\n",
        "from sklearn import preprocessing\n",
        "from sklearn.linear_model import LogisticRegression\n",
        "from sklearn.model_selection import train_test_split\n",
        "print(\"sklearn version: \", sl.__version__)\n",
        "from sklearn import metrics\n",
        "import seaborn as sns\n",
        "from sklearn.preprocessing import PolynomialFeatures\n",
        "from sklearn.pipeline import make_pipeline\n",
        "\n",
        "def gen_data(n_samples=20, n_classes=2, overlap=0, x_scale=[0,1], random_state=None):\n",
        "    '''Generate 1-D classification dataset'''\n",
        "    assert overlap <= 1\n",
        "    rng = np.random.RandomState(random_state)\n",
        "    X = np.zeros((n_samples,1))\n",
        "    y = np.zeros(n_samples)\n",
        "    for i in range(n_samples):\n",
        "        k = i % n_classes\n",
        "        X[i,0] = (k*(1-overlap) + rng.rand())/((n_classes-1)*(1-overlap) + 1)\n",
        "        y[i] = k\n",
        "    X = x_scale[0] + (x_scale[1]-x_scale[0])*X\n",
        "    return X, y\n",
        "\n",
        "def plot_data(X, y, colors=['bo','rx','gs','md','c^','yP']):\n",
        "    ''' Plot 1-D or 2-D classification dataset '''\n",
        "    assert len(X.shape) == 2 and len(y.shape) == 1\n",
        "    classes = np.unique(y)\n",
        "    assert len(classes) <= len(colors)\n",
        "    dim = X.shape[1]\n",
        "    assert 0 < dim <= 2\n",
        "    if dim == 1:\n",
        "        for i in range(len(classes)):\n",
        "            plt.plot(X[y==classes[i],0], np.zeros(np.sum(y==classes[i])), colors[i])\n",
        "        plt.gca().axes.get_yaxis().set_ticks([])\n",
        "    else:\n",
        "        for i in range(len(classes)):\n",
        "            plt.plot(X[y==classes[i],0], X[y==classes[i],1], colors[i])\n",
        "    return\n",
        "\n",
        "def plot_boundary(model, X, colors=['b','r','g','m','c','y'], N=400, gap=1e-9):\n",
        "    ''' Plot boundary for a 1-D or 2-D classifier '''\n",
        "    assert len(X.shape) == 2 and len(y.shape) == 1\n",
        "    dim = X.shape[1]\n",
        "    assert 0 < dim <= 2\n",
        "    x1_min, x1_max = X[:,0].min()-gap, X[:,0].max()+gap\n",
        "    if dim == 1:\n",
        "        x2_min, x2_max = -1, 1\n",
        "        N2 = 2\n",
        "    else:\n",
        "        x2_min, x2_max = X[:,1].min()-gap, X[:,1].max()+gap\n",
        "        N2 = N\n",
        "    xx1, xx2 = np.meshgrid(np.linspace(x1_min,x1_max,N), np.linspace(x2_min,x2_max,N2))\n",
        "    if dim == 1:\n",
        "        X = np.c_[xx1.reshape(-1)]\n",
        "    else:\n",
        "        X = np.c_[xx1.reshape(-1), xx2.reshape(-1)]\n",
        "    y_pred = model.predict(X)\n",
        "    from sklearn.preprocessing import LabelEncoder\n",
        "    enc = LabelEncoder()\n",
        "    y_pred = enc.fit_transform(y_pred)\n",
        "    assert len(enc.classes_) <= len(colors)\n",
        "    levels = np.arange(len(enc.classes_)+1)-0.5\n",
        "    y_pred = y_pred.reshape(xx1.shape)\n",
        "    plt.contourf(xx1, xx2, y_pred, levels, colors=colors, alpha=0.25)\n",
        "    plt.contour(xx1, xx2, y_pred, levels, colors='k', linewidths=1)\n",
        "    return\n",
        "\n",
        "def plot_errors(model, X, y):\n",
        "    ''' Draws a square around each incorrect prediction '''\n",
        "    assert len(X.shape) == 2 and len(y.shape) == 1\n",
        "    dim = X.shape[1]\n",
        "    assert 0 < dim <= 2\n",
        "    err = model.predict(X) != y\n",
        "    vert = np.zeros(np.sum(err))\n",
        "    if dim == 2:\n",
        "        vert = X[err,1]\n",
        "    plt.plot(X[err,0], vert, 'ks', mfc='none', markersize=10)\n",
        "    return"
      ],
      "execution_count": null,
      "outputs": [
        {
          "output_type": "stream",
          "name": "stdout",
          "text": [
            "sklearn version:  1.0.2\n"
          ]
        }
      ]
    },
    {
      "cell_type": "markdown",
      "metadata": {
        "id": "Ee6bLDDJFS4z"
      },
      "source": [
        "Aqui geramos o que chamamos de dados Não separáveis linearmente, sendo que se passarmaos uma linha reta (sem curva) não conserguimos separar os dados. Sendo assim, precisamos usar um modelo mais adequado."
      ]
    },
    {
      "cell_type": "code",
      "metadata": {
        "colab": {
          "base_uri": "https://localhost:8080/",
          "height": 265
        },
        "id": "Peq_LHrYur07",
        "outputId": "a782d288-f651-4fe5-918e-e31684a9131c"
      },
      "source": [
        "from sklearn.datasets import make_moons\n",
        "\n",
        "np.random.seed(2019*2)\n",
        "X, y = make_moons(n_samples=200, noise=0.25)\n",
        "X_val, y_val = make_moons(n_samples=10000, noise=0.25)\n",
        "X_test, y_test = make_moons(n_samples=10000, noise=0.25)\n",
        "plot_data(X, y)"
      ],
      "execution_count": null,
      "outputs": [
        {
          "output_type": "display_data",
          "data": {
            "text/plain": [
              "<Figure size 432x288 with 1 Axes>"
            ],
            "image/png": "[encoded data removed]"
          },
          "metadata": {
            "needs_background": "light"
          }
        }
      ]
    },
    {
      "cell_type": "markdown",
      "metadata": {
        "id": "YNHp-dbGur08"
      },
      "source": [
        "## Desenvolvimento do modelo\n",
        "\n",
        "Agora, faremos os seguintes passos:\n",
        "\n",
        "1. Desenvolver um bom classificador de regressão logística, da forma que achar o mais adequado.\n",
        "1. Justificar a escolha. Em particular, tentaremos justificar que o modelo não está sofrendo nem de underfitting nem de overfitting.\n",
        "\n",
        "Observe o comando make_pipeline ([O que é make_pipeline v1](https://scikit-learn.org/stable/modules/generated/sklearn.pipeline.make_pipeline.html) ou [O que é make_pipeline v2](https://towardsdatascience.com/building-a-machine-learning-pipeline-3bba20c2352b)) e o PolynomialFeatures() ([O que é PolynomialFeatures](https://machinelearningmastery.com/polynomial-features-transforms-for-machine-learning/). A leitura de comandos e como eles funcionam é uma tarefa obrigatória para quem usa ciência da dados e ML."
      ]
    },
    {
      "cell_type": "code",
      "metadata": {
        "colab": {
          "base_uri": "https://localhost:8080/",
          "height": 317
        },
        "id": "nNZOeB9uur08",
        "outputId": "fbde5b1f-45f9-4fed-bbd2-d5f90e42eefb"
      },
      "source": [
        "#usamos o make_pipeline para juntar processos que adaptam e estruturam os dados juntantomente com a criação dos modelos.\n",
        "model_log_regr_reg_4 = make_pipeline(PolynomialFeatures(3),LogisticRegression(penalty='l2',max_iter=100000000, C=2e1))\n",
        "model_log_regr_reg_4.fit(X, y) #aqui treinamos o modelo\n",
        "y_predict_4 = model_log_regr_reg_4.predict(X) #aqui fazemos a predição, que é quando o modelo irá realmente \"classificar\"\n",
        "\n",
        "#aqui medimos a qualidade do modelo por um métrica de avaliação - no caso a acurácia\n",
        "print(\"Training accuracy: %.2f\" % model_log_regr_reg_4.score(X, y),\"%\")\n",
        "print(\"Validation accuracy: %.2f\" % model_log_regr_reg_4.score(X_val, y_val),\"%\")\n",
        "print(\"Test accuracy: %.2f\" % model_log_regr_reg_4.score(X_test, y_test),\"%\")\n",
        "plot_errors(model_log_regr_reg_4, X, y_predict_4)\n",
        "plot_boundary(model_log_regr_reg_4, X) #para plotar os dados\n",
        "plot_data(X, y)"
      ],
      "execution_count": null,
      "outputs": [
        {
          "output_type": "stream",
          "name": "stdout",
          "text": [
            "Training accuracy: 0.92 %\n",
            "Validation accuracy: 0.93 %\n",
            "Test accuracy: 0.93 %\n"
          ]
        },
        {
          "output_type": "display_data",
          "data": {
            "text/plain": [
              "<Figure size 432x288 with 1 Axes>"
            ],
            "image/png": "[encoded data removed]"
          },
          "metadata": {
            "needs_background": "light"
          }
        }
      ]
    },
    {
      "cell_type": "markdown",
      "metadata": {
        "id": "2bEKUdKBGjXE"
      },
      "source": [
        "Aqui foram usados uma junção em formato de pipeline de dados, onde foca-se em observar os dados e tentar adequar o modelo para poder realizar divisão dos dados em dois rótulos (classificação), sendo que um dos teste foi aplicando diferentes graus de funções polinomiais, onde um grau polinomial maior permite uma maior adequação aos dados. O uso de regularaização l2 também permite melhor a taxa de acerto tanto para treinamento quanto para validação."
      ]
    },
    {
      "cell_type": "markdown",
      "metadata": {
        "id": "jToXK_umHXEG"
      },
      "source": [
        "# Análise do Modelo\n",
        "\n",
        "Agora faça uma análise do modelo, comparando principalmente com os modelos de Regressão Logística. O que você considera melhor nesse modelo que no de regressão logística? Também explore os camosndos e funções usadas, bem como descreva o que você entendeu sobre regularização."
      ]
    },
    {
      "cell_type": "markdown",
      "metadata": {
        "id": "9JopCs5cH1v2"
      },
      "source": [
        "## Sua Resposta:"
      ]
    },
    {
      "cell_type": "markdown",
      "source": [
        "# Exercício\n",
        "\n",
        "Agora, usando o código acima e os conhecimentos adiquiridos nos exercícios anteriores, vamos fazer classificação de dados. Para isso, vamos usar o dataset: \n",
        "\n",
        "Maternal Health Risk Data: https://www.kaggle.com/datasets/csafrit2/maternal-health-risk-data\n",
        "\n",
        "A ideia do dataset é prever o risco de gravidez usando um sistema IoT para monitoramento de saúde. Faça uma análise dos dados. \n",
        "\n",
        "Uma dica é colocar os termos `low risk`, `mid risk` e `high risk` como valores numéricos 1, 2 e 3, respectivamente. Para isso você pode carregar o arquivo csv (igual fez nos outros exercícios) e substituir no python mesmo (vamos lá, automatize o processo)."
      ],
      "metadata": {
        "id": "Wt5RmIrJZaFV"
      }
    },
    {
      "cell_type": "markdown",
      "metadata": {
        "id": "iCKf0pZhur08"
      },
      "source": [
        "# 4. SVM\n",
        "\n",
        "Neste exercício você irá construir classificadores usando máquinas de vetores de suporte (SVM - [Link para explicação](https://https://minerandodados.com.br/famoso-svm/)), tando em sua versão linear quanto na versão baseada em kernels. Também serão abordadas técnicas de validação cruzada para avaliação de desempenho e busca de hiperparâmetros."
      ]
    },
    {
      "cell_type": "code",
      "metadata": {
        "colab": {
          "base_uri": "https://localhost:8080/"
        },
        "id": "iQlUjYlJur08",
        "outputId": "0bffb0ab-3ec3-44fe-f632-8b5923f2b783"
      },
      "source": [
        "# aqui são importadas as bibliotecas e declaradas as funções de plotagem e criação de dados\n",
        "import numpy as np\n",
        "import matplotlib.pyplot as plt\n",
        "%matplotlib inline\n",
        "\n",
        "import os\n",
        "!pip install wget\n",
        "import wget\n",
        "from scipy.io import loadmat\n",
        "from sklearn.svm import SVC\n",
        "from sklearn.pipeline import make_pipeline\n",
        "\n",
        "def plot_data(X, y, colors=['bo','rx','gs','md','c^','yP']):\n",
        "    ''' Plot 1-D or 2-D classification dataset '''\n",
        "    assert len(X.shape) == 2 and len(y.shape) == 1\n",
        "    classes = np.unique(y)\n",
        "    assert len(classes) <= len(colors)\n",
        "    dim = X.shape[1]\n",
        "    assert 0 < dim <= 2\n",
        "    if dim == 1:\n",
        "        for i in range(len(classes)):\n",
        "            plt.plot(X[y==classes[i],0],np.zeros(np.sum(y==classes[i])),colors[i])\n",
        "        plt.gca().axes.get_yaxis().set_ticks([])\n",
        "    else:\n",
        "        for i in range(len(classes)):\n",
        "            plt.plot(X[y==classes[i],0],X[y==classes[i],1],colors[i])\n",
        "    return\n",
        "\n",
        "def plot_svm(model, X, heatmap=False, circles=None, N=100, gap=1e-9):\n",
        "    ''' Plot decision regions for a 1-D or 2-D binary SVM classifier '''\n",
        "    assert len(X.shape) == 2\n",
        "    dim = X.shape[1]\n",
        "    assert 0 < dim <= 2\n",
        "    x1_min, x1_max = X[:,0].min()-gap, X[:,0].max()+gap\n",
        "    if dim == 1:\n",
        "        x2_min, x2_max = -1, 1\n",
        "        N2 = 2\n",
        "    else:\n",
        "        x2_min, x2_max = X[:,1].min()-gap, X[:,1].max()+gap\n",
        "        N2 = N\n",
        "    xx1, xx2 = np.meshgrid(np.linspace(x1_min,x1_max,N), np.linspace(x2_min,x2_max,N2))\n",
        "    if dim == 1:\n",
        "        XX = np.c_[xx1.reshape(-1)]\n",
        "    else:\n",
        "        XX = np.c_[xx1.reshape(-1), xx2.reshape(-1)]\n",
        "    z = model.decision_function(XX)\n",
        "    assert len(z.shape) == 1\n",
        "    z = z.reshape(xx1.shape)\n",
        "    plt.contourf(xx1,xx2,np.sign(z),cmap=plt.cm.bwr,vmin=-3,vmax=3)\n",
        "    plt.contour(xx1,xx2,z,cmap=plt.cm.gray,vmin=np.inf,vmax=np.inf,levels=[0])\n",
        "    if heatmap:\n",
        "        a = np.max(np.abs(z))*2\n",
        "        plt.contourf(xx1,xx2,z,100,cmap=plt.cm.bwr,vmin=-a,vmax=a)\n",
        "        if circles == None:\n",
        "            circles = False\n",
        "    else:\n",
        "        plt.contourf(xx1,xx2,z,cmap=plt.cm.bwr,vmin=-3,vmax=3,levels=[-1,0,1])\n",
        "        if circles == None:\n",
        "            circles = True\n",
        "    if circles:\n",
        "        S = X[model.support_]\n",
        "        if dim == 1:\n",
        "            S = np.c_[S, np.zeros(S.shape[0])]\n",
        "        plt.plot(*S.T,'go',mfc='none',ms=12)\n",
        "    return"
      ],
      "execution_count": null,
      "outputs": [
        {
          "output_type": "stream",
          "name": "stdout",
          "text": [
            "Looking in indexes: https://pypi.org/simple, https://us-python.pkg.dev/colab-wheels/public/simple/\n",
            "Collecting wget\n",
            "  Downloading wget-3.2.zip (10 kB)\n",
            "Building wheels for collected packages: wget\n",
            "  Building wheel for wget (setup.py) ... \u001b[?25l\u001b[?25hdone\n",
            "  Created wheel for wget: filename=wget-3.2-py3-none-any.whl size=9675 sha256=676322c60f7a3079f2a39913d06025cb7a54372784ee20da65869c1891c6ab14\n",
            "  Stored in directory: /root/.cache/pip/wheels/a1/b6/7c/0e63e34eb06634181c63adacca38b79ff8f35c37e3c13e3c02\n",
            "Successfully built wget\n",
            "Installing collected packages: wget\n",
            "Successfully installed wget-3.2\n"
          ]
        }
      ]
    },
    {
      "cell_type": "markdown",
      "metadata": {
        "id": "RYkk2PXRur09"
      },
      "source": [
        "O próximo conjunto de dados pode ser carregado pelo comando abaixo. Note que este é o mesmo conjunto utilizado em Regressão Logística, exceto que o conjunto de validação agora tem o mesmo tamanho do conjunto de treinamento. (Para fins didáticos, o conjunto de teste continua extremamente grande.)"
      ]
    },
    {
      "cell_type": "code",
      "metadata": {
        "colab": {
          "base_uri": "https://localhost:8080/",
          "height": 265
        },
        "id": "6CVJ9iYTur09",
        "outputId": "d424289c-8bae-46ba-992c-48f353a6e910"
      },
      "source": [
        "from sklearn.datasets import make_moons\n",
        "\n",
        "#criação do dataset sintético\n",
        "np.random.seed(2019*2)\n",
        "X_train, y_train = make_moons(n_samples=200, noise=0.25)\n",
        "X_val, y_val = make_moons(n_samples=200, noise=0.25)\n",
        "X_test, y_test = make_moons(n_samples=10000, noise=0.25)\n",
        "plot_data(X_train, y_train)"
      ],
      "execution_count": null,
      "outputs": [
        {
          "output_type": "display_data",
          "data": {
            "text/plain": [
              "<Figure size 432x288 with 1 Axes>"
            ],
            "image/png": "[encoded data removed]"
          },
          "metadata": {
            "needs_background": "light"
          }
        }
      ]
    },
    {
      "cell_type": "markdown",
      "metadata": {
        "id": "UoJZil0aur09"
      },
      "source": [
        "## Busca de hiperparâmetros: Grid search + Validação hold-out\n",
        "\n",
        "Aqui utilizaremos um classificador SVM com kernel RBF. Iremos determinar os melhores valores dos hiperparâmetros de acordo com o desempenho no conjunto de validação. Em outras palavras, iremos variar parâmentros do modelo, o $C$ e $\\gamma$, sempre treinando o modelo no conjunto de treinamento e medindo o desempenho no conjunto de validação, até encontrar os valores que maximizam a acurácia de validação.\n",
        "\n",
        "Para isso, definimos uma lista de valores de $C$ (digamos, `list_C`) e uma lista de valores de $\\gamma$ (digamos, `list_gamma`), e variar $(C,\\gamma)$ dentro da grade `list_C` x `list_gamma` (este método é conhecido como [grid search](https://en.wikipedia.org/wiki/Hyperparameter_optimization#Grid_search)), o que a princípio poderia ser implementado com dois laços `for`. No entanto, para facilitar, usaremos a função `grid_search` fornecida abaixo, a qual internamente utiliza a função `GridSearchCV` da biblioteca `sklearn`, com a opção `cv=PredefinedSplit()`.\n",
        "\n",
        "Faremos as seguintes tarefas:\n",
        "\n",
        "1. Utilizar a função `grid_search` fornecida abaixo para encontrar os melhores valores de $C$ e $\\gamma$.\n",
        "1. Em seguida, para os valores encontrados, traçar o gráfico da região de decisão (com o conjunto de treinamento) e determine a acurácia nos conjuntos de treinamento, validação e teste.\n",
        "\n",
        "#### Dicas\n",
        "\n",
        "- Para ambos $C$ e $\\gamma$, é recomendável utilizar valores que seguem uma progressão geométrica, i.e., regularmente espaçados no expoente. \n",
        "- A função `np.logspace()` pode ser útil."
      ]
    },
    {
      "cell_type": "code",
      "metadata": {
        "id": "NNA701xbur09"
      },
      "source": [
        "# aqui são importadas funções usadas para achar dados\n",
        "from sklearn.model_selection import GridSearchCV, PredefinedSplit\n",
        "\n",
        "# essa função ajuda na procura pelos melhores parâmentros do modelo\n",
        "def grid_search(model, param_grid, X_train, y_train, X_val, y_val):\n",
        "    val_index = [-1]*len(X_train) + [0]*len(X_val)\n",
        "    gs = GridSearchCV(model, param_grid, refit=False, cv=PredefinedSplit(val_index))\n",
        "    gs.fit(np.r_[X_train, X_val], np.r_[y_train, y_val])\n",
        "    return gs.best_params_"
      ],
      "execution_count": null,
      "outputs": []
    },
    {
      "cell_type": "code",
      "metadata": {
        "id": "9XCvpFcuur0-"
      },
      "source": [
        "#definimos um intervalo de valores a serem testados, buscando encontrar o melhor\n",
        "list_C = list_gamma =  np.linspace(0.001, 100,100)"
      ],
      "execution_count": null,
      "outputs": []
    },
    {
      "cell_type": "code",
      "metadata": {
        "colab": {
          "base_uri": "https://localhost:8080/"
        },
        "id": "f3irtqRmur0-",
        "outputId": "9212d572-947d-4347-eeea-410436884d68"
      },
      "source": [
        "# criamos a estrutura de dados para a pesquisa de parâmetros\n",
        "param_grid = {'C':list_C, 'gamma':list_gamma} # not a very good choice\n",
        "# This will try the following sets of parameters:\n",
        "# [{'C': 0.001, 'gamma': 0.001},\n",
        "#  {'C': 0.001, 'gamma': 1000},\n",
        "#  {'C': 0.003, 'gamma': 0.001},\n",
        "#  {'C': 0.003, 'gamma': 1000},\n",
        "#  {'C': 0.01, 'gamma': 0.001},\n",
        "#  {'C': 0.01, 'gamma': 1000}]\n",
        "\n",
        "# Agora fazemos a busca pelo melhor (busca otimizada)\n",
        "best_params = grid_search(SVC(kernel='rbf'), param_grid, X_train, y_train, X_val, y_val)\n",
        "print(best_params)\n",
        "\n",
        "# valores encontrados\n",
        "C, gamma = best_params['C'], best_params['gamma']"
      ],
      "execution_count": null,
      "outputs": [
        {
          "output_type": "stream",
          "text": [
            "{'C': 2.021181818181818, 'gamma': 8.081727272727273}\n"
          ],
          "name": "stdout"
        }
      ]
    },
    {
      "cell_type": "code",
      "source": [
        "C, gamma = 2.021181818181818, 8.081727272727273"
      ],
      "metadata": {
        "id": "nxU5CoJSrf5M"
      },
      "execution_count": null,
      "outputs": []
    },
    {
      "cell_type": "code",
      "metadata": {
        "colab": {
          "base_uri": "https://localhost:8080/",
          "height": 317
        },
        "id": "Hi9UXCc8ur0-",
        "outputId": "f995b3c2-5424-4af8-d9ba-e6b611ad0938"
      },
      "source": [
        "# Criamos o modelo com kernel RBF, um dos kernels mais famosos\n",
        "model = SVC(C=C, kernel='rbf', gamma = gamma)\n",
        "model.fit(X_train, y_train) #treinamos o modelo\n",
        "\n",
        "# Aqui testamos os conjuntos de dados para o modelo treinamento, avaliando a acurácia \n",
        "print('Train accuracy: {:.1%}'.format(model.score(X_train, y_train)))   \n",
        "print('Val accuracy: {:.1%}'.format(model.score(X_val, y_val)))\n",
        "print('Test accuracy: {:.1%}'.format(model.score(X_test, y_test)))\n",
        "\n",
        "# Plotamos para olhar visulamente como o modelo se adaptou ao conjuntos de dados\n",
        "plot_data(X_train, y_train)\n",
        "plot_svm(model,X_train,heatmap=True, circles=True)"
      ],
      "execution_count": null,
      "outputs": [
        {
          "output_type": "stream",
          "name": "stdout",
          "text": [
            "Train accuracy: 93.5%\n",
            "Val accuracy: 96.5%\n",
            "Test accuracy: 93.0%\n"
          ]
        },
        {
          "output_type": "display_data",
          "data": {
            "text/plain": [
              "<Figure size 432x288 with 1 Axes>"
            ],
            "image/png": "[encoded data removed]"
          },
          "metadata": {
            "needs_background": "light"
          }
        }
      ]
    },
    {
      "cell_type": "markdown",
      "metadata": {
        "id": "jv1rh4h8ur0_"
      },
      "source": [
        "## Busca de hiperparâmetros: Grid search + Validação cruzada $k$-fold\n",
        "\n",
        "Agora, suponha que você não possui ou não deseja separar um conjunto de validação (*hold-out*) como feito acima. Isto é, assuma que `X_val` e `y_val` não existem. Ainda assim é possível obter uma boa estimativa de desempenho---sem usar o conjunto de teste---e utilizá-la para a escolha de hiperparâmetros, utilizando validação cruzada $k$-fold (conforme feito no item 2.7). Esta estimativa pode ser combinada, por exemplo, com uma busca em grade para determinação de hiperparâmetros; em outras palavras, para cada configuração de hiperparâmetros da grade fornecida, deve-se realizar uma validação cruzada $k$-fold para estimativa de desempenho daquela configuração.\n",
        "\n",
        "A princípio, isto poderia ser implementado através de laços `for` (para busca em grade) combinados com a função `cross_val_score()` para estimativa de desempenho. No entanto, para facilitar, vamos diretamente utilizar a biblioteca `sklearn`, a qual já possui uma implementação eficiente da busca em grade com validação cruzada, mais precisamente a função `sklearn.model_selection.GridSearchCV()`. Essa abordagem é, na verdade, a forma mais comum de uso desta função (ao contrário da abordagem do item anterior).\n",
        "\n",
        "Agora faremos:\n",
        "\n",
        "3. Realizar uma busca de hiperparâmetros através de *grid search* com validação cruzada 5-fold. Lembre-se que você vai usar somente o conjunto de treinamento.\n",
        "1. Para o melhor classificador encontrado, traçar o gráfico da região de decisão (com o conjunto de treinamento) e determine a acurácia nos conjuntos de treinamento e teste (lembre que não existe mais conjunto de validação separado).\n",
        "1. Comente sobre os resultados observados.\n",
        "\n",
        "#### Dicas\n",
        "\n",
        "- Para utilizar a função `GridSearchCV` você precisará definir o argumento `param_grid`. Por exemplo:\n",
        "\n",
        "```\n",
        "param_grid = {'C':[0.001, 0.003, 0.01], 'gamma':[0.001, 1000]}\n",
        "```\n",
        "\n",
        "- Estude a documentação da função `GridSearchCV`. Em particular, as propriedades `.best_estimator_` e `.cv_results_` são interessantes e possivelmente úteis.\n",
        "- A opção `refit=True` permite utilizar o próprio objeto `gs = GridSearchCV()` como classificador, com funções `predict`, `score`, etc. No entanto, isso pode causar confusão. Inicialmente, é recomendável usar a função apenas para encontrar os melhores hiperparâmetros e então treinar separamente o modelo no conjunto de treinamento."
      ]
    },
    {
      "cell_type": "code",
      "metadata": {
        "id": "fJnvPOf-ur0_"
      },
      "source": [
        "del X_val, y_val # deletamos o conjunto de validação pois não precisamos mais"
      ],
      "execution_count": null,
      "outputs": []
    },
    {
      "cell_type": "code",
      "metadata": {
        "colab": {
          "base_uri": "https://localhost:8080/"
        },
        "id": "AmvtfCIVur0_",
        "outputId": "582f1a45-9394-4840-deb3-3dfc4e8c9ee1"
      },
      "source": [
        "list_C = list_gamma =  np.linspace(0.1, 10,100) # criamos um intervalo de valores que serão testados\n",
        "param_grid = {'C':list_C, 'gamma':list_gamma}  # aqui criamos a estrutura para procurar os dados\n",
        "gs = GridSearchCV(SVC(kernel='rbf'), param_grid, refit=True, cv=None) # fazemos a função achar os melhores parâmetros do modelo\n",
        "\n",
        "gs.fit(X_train, y_train) # testamos para ver se realmente é bom\n",
        "print(gs.best_params_) # printamos os parâmentros encontrados\n",
        "\n",
        "#aqui só usamos váriaveis intermediárias para deixar mais claro o nome dos parâmetros encontrados\n",
        "C, gamma = gs.best_params_['C'], gs.best_params_['gamma']\n",
        "\n"
      ],
      "execution_count": null,
      "outputs": [
        {
          "output_type": "stream",
          "text": [
            "{'C': 0.1, 'gamma': 4.0}\n"
          ],
          "name": "stdout"
        }
      ]
    },
    {
      "cell_type": "code",
      "source": [
        "C= 0.1\n",
        "gamma = 4.0"
      ],
      "metadata": {
        "id": "UY_wNnBrs1Ra"
      },
      "execution_count": null,
      "outputs": []
    },
    {
      "cell_type": "code",
      "metadata": {
        "colab": {
          "base_uri": "https://localhost:8080/",
          "height": 265
        },
        "id": "jDoJPjbQur0_",
        "outputId": "8264cbf1-7a61-4b24-9b39-9a0ef3f89ecd"
      },
      "source": [
        "#print(gs.best_estimator_) # aqui avaliamos os melhores parâmentros para criar o nosso modelo de aprendizado de máquina\n",
        "#print('Train accuracy: {:.1%}'.format(gs.score(X_train, y_train)))  \n",
        "#print('Test accuracy: {:.1%}'.format(gs.score(X_test, y_test)))\n",
        "\n",
        "#aqui criamos o modelo, treinamos e testamos os resultados\n",
        "model = SVC(C=C, kernel='rbf', gamma = gamma)\n",
        "model.fit(X_train, y_train)\n",
        "plot_data(X_train, y_train)\n",
        "plot_svm(model,X_train,heatmap=True, circles=True)"
      ],
      "execution_count": null,
      "outputs": [
        {
          "output_type": "display_data",
          "data": {
            "text/plain": [
              "<Figure size 432x288 with 1 Axes>"
            ],
            "image/png": "[encoded data removed]"
          },
          "metadata": {
            "needs_background": "light"
          }
        }
      ]
    },
    {
      "cell_type": "markdown",
      "metadata": {
        "id": "RN6d4QSSur1A"
      },
      "source": [
        "Para os hiperparâmetros encontrados via grid-search, observa-se uma melhora na acurácia do vetor de teste e uma piora no vetor de treinamento (talvez motivada pela troca do intervalo das listas de hiperparâmetros usadas). Apesar disso, os resultados são satisfatório para o conjunto de dados utilizado."
      ]
    },
    {
      "cell_type": "markdown",
      "metadata": {
        "id": "PJIxVGaYIr3g"
      },
      "source": [
        "# Análise dos Resultados\n",
        "\n",
        "Agora você irá fazer uma análise do algoritmo SVM (muito popular em classificação binária). Compare-o com os modelos anteriores de Regressão e descreva o que você entendeu sobre ele em pesquisas feitas no Google."
      ]
    },
    {
      "cell_type": "markdown",
      "metadata": {
        "id": "2A-kTa_tJHQi"
      },
      "source": [
        "## Sua Resposta:"
      ]
    },
    {
      "cell_type": "markdown",
      "source": [
        "# Exercício\n",
        "\n",
        "Aplique o mesmo dataset de regressão logística (o do exercício) com o classificador SVM. Caso queira, pode aplicar outro dataset do kaggle sobre IoT também.\n",
        "\n",
        "A classificação foi melhor (baseando-se nas métricas adequadas)?"
      ],
      "metadata": {
        "id": "hTc7JXc7bns8"
      }
    },
    {
      "cell_type": "markdown",
      "metadata": {
        "id": "T-GZQYgLur1A"
      },
      "source": [
        "# 5. Redes Neurais\n",
        "\n",
        "Agora iremos explorar como usar uma arquitetura básica de Rede Neural ([O que é Rede Neural](https://www.tecmundo.com.br/programacao/2754-o-que-sao-redes-neurais-.htm)) com o sklearn. Uma Rede neural se caracteria, basicamente, como tendo uma única camada oculta. Para os experimentos que você reproduzirá e análisará, é usado a função MPLClassifier().\n",
        "\n",
        "\n",
        "Iniciamente, criamos uma dataset sintético."
      ]
    },
    {
      "cell_type": "code",
      "metadata": {
        "colab": {
          "base_uri": "https://localhost:8080/",
          "height": 300
        },
        "id": "S3WB9tftur1A",
        "outputId": "f39a71e6-9f3f-4b1d-ee9e-84765f375394"
      },
      "source": [
        "from sklearn.datasets import make_blobs\n",
        "from sklearn.model_selection import train_test_split\n",
        "\n",
        "#criamos os dados sitntéticos\n",
        "X, y = make_blobs(n_samples=400, n_features=2, centers=[[0,0],[1,1],[0,1],[1,0]], cluster_std=0.15, random_state=0)\n",
        "y = (y >= 2).astype(int)\n",
        "X_train, X_val, y_train, y_val = train_test_split(X, y, test_size=1/4, random_state=0) #dividimos para não gerar contaminação\n",
        "\n",
        "plot_data(X_train,y_train) # plotamos os dados \n",
        "\n",
        "print(X_train.shape, y_train.shape)\n",
        "print(X_val.shape, y_val.shape)"
      ],
      "execution_count": null,
      "outputs": [
        {
          "output_type": "stream",
          "name": "stdout",
          "text": [
            "(300, 2) (300,)\n",
            "(100, 2) (100,)\n"
          ]
        },
        {
          "output_type": "display_data",
          "data": {
            "text/plain": [
              "<Figure size 432x288 with 1 Axes>"
            ],
            "image/png": "[encoded data removed]"
          },
          "metadata": {
            "needs_background": "light"
          }
        }
      ]
    },
    {
      "cell_type": "markdown",
      "metadata": {
        "id": "ITBWdx9kur1A"
      },
      "source": [
        "Em seguida, utilize uma rede neural de 1 camada (nenhuma camada oculta) com ativação de saída logística e sem regularização, sempre com `solver='lbfgs'`. Note que o parâmetro `activation` refere-se à ativação das camadas ocultas e portanto é irrelevante neste caso particular, podendo ser escolhido como `'identity'`, o que corresponde a uma ativação linear. Note também que `alpha` é o parâmetro de regularização, equivalente a `1/C`. "
      ]
    },
    {
      "cell_type": "code",
      "metadata": {
        "colab": {
          "base_uri": "https://localhost:8080/",
          "height": 300
        },
        "id": "b1nM_UrIur1B",
        "outputId": "e07fd5a8-5a2c-46d1-d407-6920394c2d72"
      },
      "source": [
        "from sklearn.neural_network import MLPClassifier # importamos o classificador\n",
        "\n",
        "# criamos o modelo com uma camada e a quantidade default de neurônios\n",
        "model = MLPClassifier(hidden_layer_sizes=[], activation='identity', solver='lbfgs', alpha=0) \n",
        "model.fit(X_train, y_train) # aqui treinamos a noss RN\n",
        "\n",
        "# plotagem dos dados\n",
        "plot_data(X_train, y_train)\n",
        "plot_boundary(model, X_train)\n",
        "\n",
        "# medimos acurâcia\n",
        "print('Train accuracy: {:.1%}'.format(model.score(X_train, y_train)))\n",
        "print('  Val accuracy: {:.1%}'.format(model.score(X_val, y_val)))"
      ],
      "execution_count": null,
      "outputs": [
        {
          "output_type": "stream",
          "name": "stdout",
          "text": [
            "Train accuracy: 48.3%\n",
            "  Val accuracy: 45.0%\n"
          ]
        },
        {
          "output_type": "display_data",
          "data": {
            "text/plain": [
              "<Figure size 432x288 with 1 Axes>"
            ],
            "image/png": "[encoded data removed]"
          },
          "metadata": {
            "needs_background": "light"
          }
        }
      ]
    },
    {
      "cell_type": "markdown",
      "metadata": {
        "id": "0WuzBAr6KAPh"
      },
      "source": [
        "Agora iremos variar a quantidade de unidades de ativação (neurônio) de uma única camada oculta. Observe que obtemos uma acurácia melhor com essa arquitetura."
      ]
    },
    {
      "cell_type": "code",
      "metadata": {
        "colab": {
          "base_uri": "https://localhost:8080/",
          "height": 300
        },
        "id": "WW39emXrur1B",
        "outputId": "dc15fb94-b44f-4757-e50f-421c5cc8da8d"
      },
      "source": [
        "# criamos o modelo com uma camada e a quantidade de 2 neurônios\n",
        "model = MLPClassifier(hidden_layer_sizes=(2), activation='logistic', solver='lbfgs', alpha=0)\n",
        "model.fit(X_train, y_train) #treinamos o modelo\n",
        "\n",
        "# plotamos os dados usando as funções definidas anteriormente\n",
        "plot_data(X_train, y_train)\n",
        "plot_boundary(model, X_train)\n",
        "\n",
        "# printamos a acurâcia do modelo\n",
        "print('Train accuracy: {:.1%}'.format(model.score(X_train, y_train)))\n",
        "print('  Val accuracy: {:.1%}'.format(model.score(X_val, y_val)))"
      ],
      "execution_count": null,
      "outputs": [
        {
          "output_type": "stream",
          "name": "stdout",
          "text": [
            "Train accuracy: 75.0%\n",
            "  Val accuracy: 75.0%\n"
          ]
        },
        {
          "output_type": "display_data",
          "data": {
            "text/plain": [
              "<Figure size 432x288 with 1 Axes>"
            ],
            "image/png": "[encoded data removed]"
          },
          "metadata": {
            "needs_background": "light"
          }
        }
      ]
    },
    {
      "cell_type": "markdown",
      "metadata": {
        "id": "0SfxiNDBKXkQ"
      },
      "source": [
        "## Atividade - Desenvolva\n",
        "\n",
        "Como tarefa, você deve implementar a mesma aquitetura feita acima e explorar uma maior quantidad de neurônios tentando melhorar a acurácia do modelo. Pode mexer a vontade na quanidade nos neurônios. "
      ]
    },
    {
      "cell_type": "code",
      "metadata": {
        "colab": {
          "base_uri": "https://localhost:8080/",
          "height": 300
        },
        "id": "M_dcupOEur1B",
        "outputId": "65f52f60-7181-4899-8c64-17855b878f20"
      },
      "source": [
        "# criamos o modelo com uma camada e a quantidade de 20 neurônios\n",
        "model = MLPClassifier(hidden_layer_sizes=(10), activation='logistic', solver='lbfgs', alpha=0)\n",
        "model.fit(X_train, y_train) #treinamos o modelo\n",
        "\n",
        "# plotamos os dados usando as funções definidas anteriormente\n",
        "plot_data(X_train, y_train)\n",
        "plot_boundary(model, X_train)\n",
        "\n",
        "# printamos a acurâcia do modelo\n",
        "print('Train accuracy: {:.1%}'.format(model.score(X_train, y_train)))\n",
        "print('  Val accuracy: {:.1%}'.format(model.score(X_val, y_val)))"
      ],
      "execution_count": null,
      "outputs": [
        {
          "output_type": "stream",
          "name": "stdout",
          "text": [
            "Train accuracy: 100.0%\n",
            "  Val accuracy: 99.0%\n"
          ]
        },
        {
          "output_type": "display_data",
          "data": {
            "text/plain": [
              "<Figure size 432x288 with 1 Axes>"
            ],
            "image/png": "[encoded data removed]"
          },
          "metadata": {
            "needs_background": "light"
          }
        }
      ]
    },
    {
      "cell_type": "markdown",
      "metadata": {
        "id": "uHZ6TzNHLGhj"
      },
      "source": [
        "# Análise dos Resultados\n",
        "\n",
        "Agora análise o desenpenho da Rede Neural variando a quantidade de unidades de ativação. O que você consegue observar? Você acha que os parâmetros usados pelo modelo são adequados?"
      ]
    },
    {
      "cell_type": "markdown",
      "metadata": {
        "id": "qCDNdkHXLaoY"
      },
      "source": [
        "## Sua Resposta:"
      ]
    },
    {
      "cell_type": "markdown",
      "source": [
        "# Exercício\n",
        "\n",
        "Aplique MLP com o seguinte dataset:\n",
        "\n",
        "Human Stress Detection in and through Sleep: https://www.kaggle.com/datasets/laavanya/human-stress-detection-in-and-through-sleep?select=SaYoPillow.csv\n",
        "\n",
        "Faça a análise dos dados e aplique MLP para classificação."
      ],
      "metadata": {
        "id": "e-NDhchdgy4f"
      }
    },
    {
      "cell_type": "markdown",
      "metadata": {
        "id": "F4LeMKHYur1B"
      },
      "source": [
        "# Redes Profundas (Deep Learning)\n",
        "\n",
        "Basicamente são redes neurais com mais de uma camada oculta ([O que é Deep Learning](https://www.cetax.com.br/blog/o-que-e-deep-learning/)). A partir de agora, desenvolveremos os modelos de aprendizado profundo utilizando o Keras/TensorFlow, o qual possui muito mais recursos do que o sklearn e é mais otimizado para desempenho (use a GPU do Colab aqui).\n",
        "\n",
        "\n",
        "\n",
        "Inicialmente fazemos a criação de um dataset sintético."
      ]
    },
    {
      "cell_type": "code",
      "metadata": {
        "colab": {
          "base_uri": "https://localhost:8080/"
        },
        "id": "v5MR1kgnur1C",
        "outputId": "36952acd-674b-4471-8ab4-78d7f682c11a"
      },
      "source": [
        "# importamos as bibliotecas\n",
        "from sklearn.datasets import make_blobs\n",
        "from sklearn.model_selection import train_test_split\n",
        "\n",
        "# criamos o dataset\n",
        "X_train, y_train = make_blobs(n_samples=400, n_features=2, centers=[[0,0],[1,1],[0,1],[1,0]], cluster_std=0.15, random_state=0)\n",
        "y_train = (y_train >= 2).astype(int)\n",
        "\n",
        "#dividimos o dataset entre treinamento e validação (usar validação ajuda a não vazar dados de teste durante o treinamento)\n",
        "X_train, X_val, y_train, y_val = train_test_split(X_train, y_train, test_size=1/4, random_state=0)\n",
        "print(X_train.shape, y_train.shape)\n",
        "print(X_val.shape, y_val.shape)"
      ],
      "execution_count": null,
      "outputs": [
        {
          "output_type": "stream",
          "name": "stdout",
          "text": [
            "(300, 2) (300,)\n",
            "(100, 2) (100,)\n"
          ]
        }
      ]
    },
    {
      "cell_type": "markdown",
      "metadata": {
        "id": "6Y5yUJnZLAF3"
      },
      "source": [
        "Agora criamos uma arquitetura básica."
      ]
    },
    {
      "cell_type": "code",
      "metadata": {
        "id": "vsedKascur1C"
      },
      "source": [
        "# importamos as bibliotecas\n",
        "from tensorflow import keras\n",
        "from keras import layers\n",
        "\n",
        "# criamos o modelo sequêncial com duas camadas (você pode adicionar mais se quiser)\n",
        "model = keras.Sequential()\n",
        "model.add(layers.Dense(150, activation=\"relu\", name=\"layer1\"))\n",
        "model.add(layers.Dense(150, activation=\"relu\", name=\"layer2\"))\n",
        "model.add(layers.Dense(150, activation=\"relu\", name=\"layer3\"))\n",
        "model.add(layers.Dense(150, activation=\"relu\", name=\"layer4\"))\n",
        "\n",
        "#aqui compilamos com otimizador Adam e avaliamos ao treinamento pela acurácia\n",
        "model.compile(optimizer=tf.keras.optimizers.Adam(0.0001),      \n",
        "              loss='sparse_categorical_crossentropy',\n",
        "              metrics=['accuracy'])"
      ],
      "execution_count": null,
      "outputs": []
    },
    {
      "cell_type": "code",
      "metadata": {
        "colab": {
          "base_uri": "https://localhost:8080/"
        },
        "id": "aLAPLzOaur1C",
        "outputId": "76c1ade0-c621-4e38-c208-7baebeb44d10"
      },
      "source": [
        "history = model.fit(X_train, y_train, epochs=100) #treinamento do modelo (pode demorar sem GPU)"
      ],
      "execution_count": null,
      "outputs": [
        {
          "output_type": "stream",
          "name": "stdout",
          "text": [
            "Epoch 1/100\n",
            "10/10 [==============================] - 0s 6ms/step - loss: 0.8574 - accuracy: 0.6700\n",
            "Epoch 2/100\n",
            "10/10 [==============================] - 0s 6ms/step - loss: 0.6815 - accuracy: 0.6700\n",
            "Epoch 3/100\n",
            "10/10 [==============================] - 0s 4ms/step - loss: 0.5794 - accuracy: 0.7067\n",
            "Epoch 4/100\n",
            "10/10 [==============================] - 0s 4ms/step - loss: 0.5380 - accuracy: 0.9033\n",
            "Epoch 5/100\n",
            "10/10 [==============================] - 0s 4ms/step - loss: 0.5122 - accuracy: 0.9467\n",
            "Epoch 6/100\n",
            "10/10 [==============================] - 0s 5ms/step - loss: 0.4884 - accuracy: 0.9800\n",
            "Epoch 7/100\n",
            "10/10 [==============================] - 0s 4ms/step - loss: 0.4651 - accuracy: 0.9900\n",
            "Epoch 8/100\n",
            "10/10 [==============================] - 0s 4ms/step - loss: 0.4419 - accuracy: 0.9967\n",
            "Epoch 9/100\n",
            "10/10 [==============================] - 0s 6ms/step - loss: 0.4181 - accuracy: 0.9967\n",
            "Epoch 10/100\n",
            "10/10 [==============================] - 0s 4ms/step - loss: 0.3929 - accuracy: 0.9967\n",
            "Epoch 11/100\n",
            "10/10 [==============================] - 0s 7ms/step - loss: 0.3645 - accuracy: 0.9967\n",
            "Epoch 12/100\n",
            "10/10 [==============================] - 0s 4ms/step - loss: 0.3327 - accuracy: 0.9967\n",
            "Epoch 13/100\n",
            "10/10 [==============================] - 0s 4ms/step - loss: 0.2935 - accuracy: 0.9967\n",
            "Epoch 14/100\n",
            "10/10 [==============================] - 0s 5ms/step - loss: 0.2447 - accuracy: 0.9967\n",
            "Epoch 15/100\n",
            "10/10 [==============================] - 0s 4ms/step - loss: 0.1750 - accuracy: 0.9967\n",
            "Epoch 16/100\n",
            "10/10 [==============================] - 0s 4ms/step - loss: 0.0811 - accuracy: 0.9967\n",
            "Epoch 17/100\n",
            "10/10 [==============================] - 0s 5ms/step - loss: 0.0338 - accuracy: 0.9967\n",
            "Epoch 18/100\n",
            "10/10 [==============================] - 0s 6ms/step - loss: 0.0151 - accuracy: 0.9967\n",
            "Epoch 19/100\n",
            "10/10 [==============================] - 0s 4ms/step - loss: 0.0082 - accuracy: 0.9967\n",
            "Epoch 20/100\n",
            "10/10 [==============================] - 0s 8ms/step - loss: 0.0058 - accuracy: 1.0000\n",
            "Epoch 21/100\n",
            "10/10 [==============================] - 0s 11ms/step - loss: 0.0049 - accuracy: 1.0000\n",
            "Epoch 22/100\n",
            "10/10 [==============================] - 0s 5ms/step - loss: 0.0042 - accuracy: 1.0000\n",
            "Epoch 23/100\n",
            "10/10 [==============================] - 0s 4ms/step - loss: 0.0040 - accuracy: 1.0000\n",
            "Epoch 24/100\n",
            "10/10 [==============================] - 0s 6ms/step - loss: 0.0030 - accuracy: 1.0000\n",
            "Epoch 25/100\n",
            "10/10 [==============================] - 0s 5ms/step - loss: 0.0023 - accuracy: 1.0000\n",
            "Epoch 26/100\n",
            "10/10 [==============================] - 0s 5ms/step - loss: 0.0014 - accuracy: 1.0000\n",
            "Epoch 27/100\n",
            "10/10 [==============================] - 0s 5ms/step - loss: 5.5264e-04 - accuracy: 1.0000\n",
            "Epoch 28/100\n",
            "10/10 [==============================] - 0s 4ms/step - loss: 4.9724e-04 - accuracy: 1.0000\n",
            "Epoch 29/100\n",
            "10/10 [==============================] - 0s 5ms/step - loss: 5.0332e-04 - accuracy: 1.0000\n",
            "Epoch 30/100\n",
            "10/10 [==============================] - 0s 4ms/step - loss: 4.7674e-04 - accuracy: 1.0000\n",
            "Epoch 31/100\n",
            "10/10 [==============================] - 0s 4ms/step - loss: 4.6505e-04 - accuracy: 1.0000\n",
            "Epoch 32/100\n",
            "10/10 [==============================] - 0s 4ms/step - loss: 4.6642e-04 - accuracy: 1.0000\n",
            "Epoch 33/100\n",
            "10/10 [==============================] - 0s 5ms/step - loss: 4.6464e-04 - accuracy: 1.0000\n",
            "Epoch 34/100\n",
            "10/10 [==============================] - 0s 5ms/step - loss: 4.6175e-04 - accuracy: 1.0000\n",
            "Epoch 35/100\n",
            "10/10 [==============================] - 0s 4ms/step - loss: 4.5813e-04 - accuracy: 1.0000\n",
            "Epoch 36/100\n",
            "10/10 [==============================] - 0s 4ms/step - loss: 4.5444e-04 - accuracy: 1.0000\n",
            "Epoch 37/100\n",
            "10/10 [==============================] - 0s 4ms/step - loss: 4.5236e-04 - accuracy: 1.0000\n",
            "Epoch 38/100\n",
            "10/10 [==============================] - 0s 5ms/step - loss: 4.4954e-04 - accuracy: 1.0000\n",
            "Epoch 39/100\n",
            "10/10 [==============================] - 0s 5ms/step - loss: 4.4734e-04 - accuracy: 1.0000\n",
            "Epoch 40/100\n",
            "10/10 [==============================] - 0s 4ms/step - loss: 4.4474e-04 - accuracy: 1.0000\n",
            "Epoch 41/100\n",
            "10/10 [==============================] - 0s 4ms/step - loss: 4.4141e-04 - accuracy: 1.0000\n",
            "Epoch 42/100\n",
            "10/10 [==============================] - 0s 6ms/step - loss: 4.3787e-04 - accuracy: 1.0000\n",
            "Epoch 43/100\n",
            "10/10 [==============================] - 0s 4ms/step - loss: 4.4235e-04 - accuracy: 1.0000\n",
            "Epoch 44/100\n",
            "10/10 [==============================] - 0s 4ms/step - loss: 4.3505e-04 - accuracy: 1.0000\n",
            "Epoch 45/100\n",
            "10/10 [==============================] - 0s 4ms/step - loss: 4.3304e-04 - accuracy: 1.0000\n",
            "Epoch 46/100\n",
            "10/10 [==============================] - 0s 4ms/step - loss: 4.3125e-04 - accuracy: 1.0000\n",
            "Epoch 47/100\n",
            "10/10 [==============================] - 0s 4ms/step - loss: 4.2880e-04 - accuracy: 1.0000\n",
            "Epoch 48/100\n",
            "10/10 [==============================] - 0s 5ms/step - loss: 4.4248e-04 - accuracy: 1.0000\n",
            "Epoch 49/100\n",
            "10/10 [==============================] - 0s 4ms/step - loss: 4.3222e-04 - accuracy: 1.0000\n",
            "Epoch 50/100\n",
            "10/10 [==============================] - 0s 4ms/step - loss: 4.3294e-04 - accuracy: 1.0000\n",
            "Epoch 51/100\n",
            "10/10 [==============================] - 0s 4ms/step - loss: 4.3116e-04 - accuracy: 1.0000\n",
            "Epoch 52/100\n",
            "10/10 [==============================] - 0s 4ms/step - loss: 4.2852e-04 - accuracy: 1.0000\n",
            "Epoch 53/100\n",
            "10/10 [==============================] - 0s 4ms/step - loss: 4.2560e-04 - accuracy: 1.0000\n",
            "Epoch 54/100\n",
            "10/10 [==============================] - 0s 4ms/step - loss: 4.2237e-04 - accuracy: 1.0000\n",
            "Epoch 55/100\n",
            "10/10 [==============================] - 0s 4ms/step - loss: 4.1914e-04 - accuracy: 1.0000\n",
            "Epoch 56/100\n",
            "10/10 [==============================] - 0s 4ms/step - loss: 4.2473e-04 - accuracy: 1.0000\n",
            "Epoch 57/100\n",
            "10/10 [==============================] - 0s 5ms/step - loss: 4.1997e-04 - accuracy: 1.0000\n",
            "Epoch 58/100\n",
            "10/10 [==============================] - 0s 5ms/step - loss: 4.1945e-04 - accuracy: 1.0000\n",
            "Epoch 59/100\n",
            "10/10 [==============================] - 0s 5ms/step - loss: 4.1747e-04 - accuracy: 1.0000\n",
            "Epoch 60/100\n",
            "10/10 [==============================] - 0s 8ms/step - loss: 4.1509e-04 - accuracy: 1.0000\n",
            "Epoch 61/100\n",
            "10/10 [==============================] - 0s 4ms/step - loss: 4.1258e-04 - accuracy: 1.0000\n",
            "Epoch 62/100\n",
            "10/10 [==============================] - 0s 4ms/step - loss: 4.0965e-04 - accuracy: 1.0000\n",
            "Epoch 63/100\n",
            "10/10 [==============================] - 0s 4ms/step - loss: 4.4468e-04 - accuracy: 1.0000\n",
            "Epoch 64/100\n",
            "10/10 [==============================] - 0s 4ms/step - loss: 4.2756e-04 - accuracy: 1.0000\n",
            "Epoch 65/100\n",
            "10/10 [==============================] - 0s 4ms/step - loss: 4.3227e-04 - accuracy: 1.0000\n",
            "Epoch 66/100\n",
            "10/10 [==============================] - 0s 5ms/step - loss: 4.3389e-04 - accuracy: 1.0000\n",
            "Epoch 67/100\n",
            "10/10 [==============================] - 0s 4ms/step - loss: 4.3315e-04 - accuracy: 1.0000\n",
            "Epoch 68/100\n",
            "10/10 [==============================] - 0s 4ms/step - loss: 4.3121e-04 - accuracy: 1.0000\n",
            "Epoch 69/100\n",
            "10/10 [==============================] - 0s 4ms/step - loss: 4.2928e-04 - accuracy: 1.0000\n",
            "Epoch 70/100\n",
            "10/10 [==============================] - 0s 4ms/step - loss: 4.2707e-04 - accuracy: 1.0000\n",
            "Epoch 71/100\n",
            "10/10 [==============================] - 0s 4ms/step - loss: 4.2499e-04 - accuracy: 1.0000\n",
            "Epoch 72/100\n",
            "10/10 [==============================] - 0s 4ms/step - loss: 4.3568e-04 - accuracy: 1.0000\n",
            "Epoch 73/100\n",
            "10/10 [==============================] - 0s 4ms/step - loss: 4.4545e-04 - accuracy: 1.0000\n",
            "Epoch 74/100\n",
            "10/10 [==============================] - 0s 4ms/step - loss: 4.2345e-04 - accuracy: 1.0000\n",
            "Epoch 75/100\n",
            "10/10 [==============================] - 0s 4ms/step - loss: 4.2228e-04 - accuracy: 1.0000\n",
            "Epoch 76/100\n",
            "10/10 [==============================] - 0s 4ms/step - loss: 4.2059e-04 - accuracy: 1.0000\n",
            "Epoch 77/100\n",
            "10/10 [==============================] - 0s 4ms/step - loss: 4.1895e-04 - accuracy: 1.0000\n",
            "Epoch 78/100\n",
            "10/10 [==============================] - 0s 5ms/step - loss: 4.1708e-04 - accuracy: 1.0000\n",
            "Epoch 79/100\n",
            "10/10 [==============================] - 0s 4ms/step - loss: 4.1533e-04 - accuracy: 1.0000\n",
            "Epoch 80/100\n",
            "10/10 [==============================] - 0s 4ms/step - loss: 4.1361e-04 - accuracy: 1.0000\n",
            "Epoch 81/100\n",
            "10/10 [==============================] - 0s 4ms/step - loss: 4.1172e-04 - accuracy: 1.0000\n",
            "Epoch 82/100\n",
            "10/10 [==============================] - 0s 4ms/step - loss: 4.1006e-04 - accuracy: 1.0000\n",
            "Epoch 83/100\n",
            "10/10 [==============================] - 0s 5ms/step - loss: 4.0824e-04 - accuracy: 1.0000\n",
            "Epoch 84/100\n",
            "10/10 [==============================] - 0s 5ms/step - loss: 4.0652e-04 - accuracy: 1.0000\n",
            "Epoch 85/100\n",
            "10/10 [==============================] - 0s 5ms/step - loss: 4.0486e-04 - accuracy: 1.0000\n",
            "Epoch 86/100\n",
            "10/10 [==============================] - 0s 4ms/step - loss: 4.0319e-04 - accuracy: 1.0000\n",
            "Epoch 87/100\n",
            "10/10 [==============================] - 0s 4ms/step - loss: 4.1753e-04 - accuracy: 1.0000\n",
            "Epoch 88/100\n",
            "10/10 [==============================] - 0s 5ms/step - loss: 4.2303e-04 - accuracy: 1.0000\n",
            "Epoch 89/100\n",
            "10/10 [==============================] - 0s 4ms/step - loss: 4.4255e-04 - accuracy: 1.0000\n",
            "Epoch 90/100\n",
            "10/10 [==============================] - 0s 5ms/step - loss: 4.5494e-04 - accuracy: 1.0000\n",
            "Epoch 91/100\n",
            "10/10 [==============================] - 0s 4ms/step - loss: 4.4868e-04 - accuracy: 1.0000\n",
            "Epoch 92/100\n",
            "10/10 [==============================] - 0s 4ms/step - loss: 4.4567e-04 - accuracy: 1.0000\n",
            "Epoch 93/100\n",
            "10/10 [==============================] - 0s 4ms/step - loss: 4.4227e-04 - accuracy: 1.0000\n",
            "Epoch 94/100\n",
            "10/10 [==============================] - 0s 4ms/step - loss: 4.3864e-04 - accuracy: 1.0000\n",
            "Epoch 95/100\n",
            "10/10 [==============================] - 0s 5ms/step - loss: 4.3500e-04 - accuracy: 1.0000\n",
            "Epoch 96/100\n",
            "10/10 [==============================] - 0s 4ms/step - loss: 4.3194e-04 - accuracy: 1.0000\n",
            "Epoch 97/100\n",
            "10/10 [==============================] - 0s 5ms/step - loss: 4.2876e-04 - accuracy: 1.0000\n",
            "Epoch 98/100\n",
            "10/10 [==============================] - 0s 5ms/step - loss: 4.2535e-04 - accuracy: 1.0000\n",
            "Epoch 99/100\n",
            "10/10 [==============================] - 0s 5ms/step - loss: 4.2241e-04 - accuracy: 1.0000\n",
            "Epoch 100/100\n",
            "10/10 [==============================] - 0s 5ms/step - loss: 4.1925e-04 - accuracy: 1.0000\n"
          ]
        }
      ]
    },
    {
      "cell_type": "markdown",
      "metadata": {
        "id": "BgOSHl5vLfqL"
      },
      "source": [
        "Foi feito o treinamento do modelo usando a função fit(). Além disso foi acompanhado a acurácia do modelo durante o treinamento. Posteriormente, é avaliado a acurácia do conjunto de validação."
      ]
    },
    {
      "cell_type": "code",
      "metadata": {
        "colab": {
          "base_uri": "https://localhost:8080/"
        },
        "id": "gPvooQjiur1C",
        "outputId": "35ff64b5-04ae-4ac5-9028-1f3af288c9cc"
      },
      "source": [
        "# aqui avalimos o modelo pela acurácia - avaliamos o conjunto de validação\n",
        "val_loss, val_acc = model.evaluate(X_val,  y_val, verbose=2)\n",
        "print('\\nTest accuracy:', val_acc)"
      ],
      "execution_count": null,
      "outputs": [
        {
          "output_type": "stream",
          "name": "stdout",
          "text": [
            "4/4 - 0s - loss: 4.1211e-04 - accuracy: 1.0000 - 143ms/epoch - 36ms/step\n",
            "\n",
            "Test accuracy: 1.0\n"
          ]
        }
      ]
    },
    {
      "cell_type": "markdown",
      "metadata": {
        "id": "2Jvjxjc0MFZC"
      },
      "source": [
        "## Análise dos Resultados\n",
        "\n",
        "Você acha que aumentar a quantidad de camadas ou de unidades de ativação irá surtir efeito? Ou diminuir a quantidade de camadas, consegue-se obter a mesma acurácia? Fique livre em adicionar o dimunuir camadas e unidades de ativação para ver os feitos do modelo com o conjunto de dados."
      ]
    },
    {
      "cell_type": "markdown",
      "metadata": {
        "id": "tPqeS1doMkF6"
      },
      "source": [
        "## Sua resposta:"
      ]
    },
    {
      "cell_type": "markdown",
      "metadata": {
        "id": "DWBN1pQxMqtF"
      },
      "source": [
        "# Análise dos Resultados\n",
        "\n",
        "O que você consegue entender da camada FLatten? Ela é importante para esse tipo de dado (imagens)? Quais as principais diferenças da arquitetura usada com os dados sintéticos e usada com o MNIST você notou (pode fazer uma pesquisa no Google)?"
      ]
    },
    {
      "cell_type": "markdown",
      "metadata": {
        "id": "Q0e4O8a_M-TK"
      },
      "source": [
        "## Sua Resposta:"
      ]
    },
    {
      "cell_type": "markdown",
      "source": [
        "# Exercício\n",
        "\n",
        "Aplique o mesmo dataset da MLP com Deep Learning e veja se o uso de mais camada trás resultados. Análise se os dados usados são adequados. Essas análise são importantes para o uso do algoritmo no dia-a-dia."
      ],
      "metadata": {
        "id": "IIZRw5cWhM-M"
      }
    },
    {
      "cell_type": "markdown",
      "metadata": {
        "id": "bBJ-ChXhur1E"
      },
      "source": [
        "# Redes Neurais Convolucionais \n",
        "\n",
        "Agora trabalharemos com um tipo de rede neural muito útil para classificar imagens e áudio, as redes neurais convolucionais ([O que é CNN](https://medium.com/neuronio-br/entendendo-redes-convolucionais-cnns-d10359f21184)).\n",
        "\n",
        "Inicialmente, importamos o dataset. O conjunto de dados é o conjunto de dígitos manuscritos MNIST, o qual possui 70000 amostras, sendo 10000 amostras de teste. Este é um conjunto clássico e -- embora não seja mais recomendado para avaliação do estado da arte -- ainda vastamente utilizado para experimentação e aprendizado. O conjunto pode ser facilmente carregado pelos comandos abaixo."
      ]
    },
    {
      "cell_type": "code",
      "metadata": {
        "colab": {
          "base_uri": "https://localhost:8080/"
        },
        "id": "Uzw4MCLMur1F",
        "outputId": "056987e3-935f-4775-ee66-ce18ded9cd60"
      },
      "source": [
        "# Novamente importamos o MNIST\n",
        "from tensorflow.keras.datasets import mnist\n",
        "\n",
        "(x_train, y_train), (x_test, y_test) = mnist.load_data() #carregamos o dataset\n",
        "\n",
        "# printamos o tamanho do dataset\n",
        "print(x_train.shape, y_train.shape)\n",
        "print(x_test.shape, y_test.shape)"
      ],
      "execution_count": null,
      "outputs": [
        {
          "output_type": "stream",
          "name": "stdout",
          "text": [
            "(60000, 28, 28) (60000,)\n",
            "(10000, 28, 28) (10000,)\n"
          ]
        }
      ]
    },
    {
      "cell_type": "markdown",
      "metadata": {
        "id": "IbjtsvCz-Pa9"
      },
      "source": [
        "Observe a diferença na notação convencional quando usamos o Keras (ou qualquer outro framework de aprendizado profundo): x (minúsculo) ao invés de X (maiúsculo). Isto ocorre porque o Keras nos permite trabalhar diretamente com os dados em seu formato original, neste caso, como um tensor 3D. Portanto, não é necessário redimensionar (reshape) os dados antes de aplicar o modelo, assim como perde o sentido usar uma notação especial para denotar uma matriz (tensor 2D).\n",
        "\n",
        "Caso seja necessário redimensionar os dados em algum estágio do modelo, isso pode ser feito internamente com camadas do Keras. Em particular, para redimensionar para o formato convencional de tensor 2D (n_samples, n_features), pode ser usada a camada Flatten. Isto é sempre necessário antes de aplicar uma camada Dense, a qual só opera na última dimensão. No nosso caso, as duas dimensões (28,28) serão \"achatadas\" em uma única de (784,):"
      ]
    },
    {
      "cell_type": "markdown",
      "metadata": {
        "id": "eIv0Rp5sNWO5"
      },
      "source": [
        "Agora é feito uma separação dos dados."
      ]
    },
    {
      "cell_type": "code",
      "metadata": {
        "colab": {
          "base_uri": "https://localhost:8080/"
        },
        "id": "8s578f7Eur1F",
        "outputId": "3519d3ff-5eee-4c96-a20c-c08cd3283554"
      },
      "source": [
        "# aqui printamos criamos o conjunto de validação usando somente 5000 amostras do conjunto de treinamento\n",
        "x_val = x_train[55000:]\n",
        "y_val = y_train[55000:]\n",
        "\n",
        "x_train = x_train[:55000]\n",
        "y_train = y_train[:55000]\n",
        "\n",
        "#printamos o tamanho dos conjuntos de treinamento, validação e teste\n",
        "print(\"Train shapes: \", x_train.shape)\n",
        "print(\"Val shapes: \",x_val.shape)\n",
        "print(\"Test shapes: \",x_test.shape)"
      ],
      "execution_count": null,
      "outputs": [
        {
          "output_type": "stream",
          "name": "stdout",
          "text": [
            "Train shapes:  (55000, 28, 28)\n",
            "Val shapes:  (5000, 28, 28)\n",
            "Test shapes:  (10000, 28, 28)\n"
          ]
        }
      ]
    },
    {
      "cell_type": "code",
      "metadata": {
        "colab": {
          "base_uri": "https://localhost:8080/"
        },
        "id": "2X1iXRErur1F",
        "outputId": "10ed9c57-89a2-490e-e422-3ef1b1853bc3"
      },
      "source": [
        "# importamos as bibliotecas necessárias\n",
        "from tensorflow import keras\n",
        "from tensorflow.keras import layers\n",
        "\n",
        "# indicamos o tamanho das imagens (com 28x28 e uma banda do RGB)\n",
        "dim_x, dim_y, dim_z = 28,28,1\n",
        "size_train = x_train[0] # pegamos o tamanho do conjunto de treinamento\n",
        "\n",
        "# função que permite criar e retornar um modelo de aprendizado de máquina criado\n",
        "def make_model():\n",
        "    model = keras.Sequential(\n",
        "      [\n",
        "       keras.Input(shape=(28,28)), # camada de entrada pegando todos os 28x28 pixels\n",
        "       layers.experimental.preprocessing.Rescaling(scale=1/255), # aqui usados uma camda de restruturação da imagem\n",
        "       layers.Reshape((dim_x, dim_y, dim_z)),\n",
        "       layers.Conv2D(32, kernel_size=(3, 3), activation=\"relu\"), # convolução 2d são usadas para processar imagens\n",
        "       layers.MaxPooling2D(pool_size=(2, 2)),    # maxpooling é usada para diminuir o tamanaho da imagem\n",
        "       layers.Conv2D(64, kernel_size=(3, 3), activation=\"relu\"), # convolução 2d são usadas para processar imagens\n",
        "       layers.MaxPooling2D(pool_size=(2, 2)), \n",
        "       layers.Conv2D(128, kernel_size=(3, 3), activation=\"relu\"), \n",
        "       layers.MaxPooling2D(pool_size=(2, 2)),\n",
        "       layers.Dropout(0.3),  # a camada dropout existe para diminuir a possibilidad de overfitting\n",
        "       layers.Flatten(),  # usamos a camada faltten para transformar dados em 2D para 1D devido as camadas densas serem para vetores 1D\n",
        "       layers.Dense(128, activation='relu'), # a camada usa a mesma quantidade de neurônios para se adaptar a quantidad de filtros da Conv2d de 128 filtros\n",
        "       layers.Dense(10, activation='softmax'), # existem 10 classes, por isso 10 neurônios na última classe\n",
        "      ]\n",
        "      )\n",
        "    return model\n",
        "make_model().summary()"
      ],
      "execution_count": null,
      "outputs": [
        {
          "output_type": "stream",
          "name": "stdout",
          "text": [
            "Model: \"sequential_4\"\n",
            "_________________________________________________________________\n",
            " Layer (type)                Output Shape              Param #   \n",
            "=================================================================\n",
            " rescaling_2 (Rescaling)     (None, 28, 28)            0         \n",
            "                                                                 \n",
            " reshape_2 (Reshape)         (None, 28, 28, 1)         0         \n",
            "                                                                 \n",
            " conv2d_6 (Conv2D)           (None, 26, 26, 32)        320       \n",
            "                                                                 \n",
            " max_pooling2d_6 (MaxPooling  (None, 13, 13, 32)       0         \n",
            " 2D)                                                             \n",
            "                                                                 \n",
            " conv2d_7 (Conv2D)           (None, 11, 11, 64)        18496     \n",
            "                                                                 \n",
            " max_pooling2d_7 (MaxPooling  (None, 5, 5, 64)         0         \n",
            " 2D)                                                             \n",
            "                                                                 \n",
            " conv2d_8 (Conv2D)           (None, 3, 3, 128)         73856     \n",
            "                                                                 \n",
            " max_pooling2d_8 (MaxPooling  (None, 1, 1, 128)        0         \n",
            " 2D)                                                             \n",
            "                                                                 \n",
            " dropout_2 (Dropout)         (None, 1, 1, 128)         0         \n",
            "                                                                 \n",
            " flatten_2 (Flatten)         (None, 128)               0         \n",
            "                                                                 \n",
            " dense_4 (Dense)             (None, 128)               16512     \n",
            "                                                                 \n",
            " dense_5 (Dense)             (None, 10)                1290      \n",
            "                                                                 \n",
            "=================================================================\n",
            "Total params: 110,474\n",
            "Trainable params: 110,474\n",
            "Non-trainable params: 0\n",
            "_________________________________________________________________\n"
          ]
        }
      ]
    },
    {
      "cell_type": "markdown",
      "metadata": {
        "id": "DC88KvQPNcrg"
      },
      "source": [
        "Criamos um modelo de CNN para classificar o MNIST. Após isso, treinamos o modelo."
      ]
    },
    {
      "cell_type": "code",
      "metadata": {
        "id": "RtgZDKNbur1F"
      },
      "source": [
        "model = make_model() # chamamos a função para criar um modelo\n",
        "\n",
        "#compilamos o modelo para otimizar usando Adam e medir a acurácia durante treinamento\n",
        "model.compile(optimizer=tf.keras.optimizers.Adam(0.001),\n",
        "              loss=tf.keras.losses.SparseCategoricalCrossentropy(from_logits=True),\n",
        "              metrics=['accuracy'])"
      ],
      "execution_count": null,
      "outputs": []
    },
    {
      "cell_type": "code",
      "metadata": {
        "colab": {
          "base_uri": "https://localhost:8080/"
        },
        "id": "z3uqP3Abur1G",
        "outputId": "b1d261ef-0507-4c06-d1ed-1bc8128105b2"
      },
      "source": [
        "history = model.fit(x_train, y_train, epochs=20, batch_size=32, validation_data=(x_val, y_val)) # aqui botamos o modelo para treinar e validamos a qualidade ao mesmo tempo"
      ],
      "execution_count": null,
      "outputs": [
        {
          "output_type": "stream",
          "name": "stdout",
          "text": [
            "Epoch 1/20\n"
          ]
        },
        {
          "output_type": "stream",
          "name": "stderr",
          "text": [
            "/usr/local/lib/python3.7/dist-packages/tensorflow/python/util/dispatch.py:1082: UserWarning: \"`sparse_categorical_crossentropy` received `from_logits=True`, but the `output` argument was produced by a sigmoid or softmax activation and thus does not represent logits. Was this intended?\"\n",
            "  return dispatch_target(*args, **kwargs)\n"
          ]
        },
        {
          "output_type": "stream",
          "name": "stdout",
          "text": [
            "1719/1719 [==============================] - 16s 4ms/step - loss: 0.2592 - accuracy: 0.9194 - val_loss: 0.0832 - val_accuracy: 0.9728\n",
            "Epoch 2/20\n",
            "1719/1719 [==============================] - 7s 4ms/step - loss: 0.0927 - accuracy: 0.9711 - val_loss: 0.0561 - val_accuracy: 0.9820\n",
            "Epoch 3/20\n",
            "1719/1719 [==============================] - 7s 4ms/step - loss: 0.0689 - accuracy: 0.9796 - val_loss: 0.0416 - val_accuracy: 0.9880\n",
            "Epoch 4/20\n",
            "1719/1719 [==============================] - 7s 4ms/step - loss: 0.0574 - accuracy: 0.9827 - val_loss: 0.0607 - val_accuracy: 0.9824\n",
            "Epoch 5/20\n",
            "1719/1719 [==============================] - 6s 4ms/step - loss: 0.0472 - accuracy: 0.9858 - val_loss: 0.0452 - val_accuracy: 0.9890\n",
            "Epoch 6/20\n",
            "1719/1719 [==============================] - 6s 4ms/step - loss: 0.0425 - accuracy: 0.9867 - val_loss: 0.0420 - val_accuracy: 0.9882\n",
            "Epoch 7/20\n",
            "1719/1719 [==============================] - 7s 4ms/step - loss: 0.0360 - accuracy: 0.9884 - val_loss: 0.0369 - val_accuracy: 0.9902\n",
            "Epoch 8/20\n",
            "1719/1719 [==============================] - 7s 4ms/step - loss: 0.0305 - accuracy: 0.9903 - val_loss: 0.0412 - val_accuracy: 0.9912\n",
            "Epoch 9/20\n",
            "1719/1719 [==============================] - 7s 4ms/step - loss: 0.0294 - accuracy: 0.9902 - val_loss: 0.0403 - val_accuracy: 0.9896\n",
            "Epoch 10/20\n",
            "1719/1719 [==============================] - 7s 4ms/step - loss: 0.0257 - accuracy: 0.9914 - val_loss: 0.0456 - val_accuracy: 0.9896\n",
            "Epoch 11/20\n",
            "1719/1719 [==============================] - 6s 4ms/step - loss: 0.0219 - accuracy: 0.9929 - val_loss: 0.0455 - val_accuracy: 0.9890\n",
            "Epoch 12/20\n",
            "1719/1719 [==============================] - 7s 4ms/step - loss: 0.0210 - accuracy: 0.9932 - val_loss: 0.0534 - val_accuracy: 0.9878\n",
            "Epoch 13/20\n",
            "1719/1719 [==============================] - 7s 4ms/step - loss: 0.0201 - accuracy: 0.9935 - val_loss: 0.0385 - val_accuracy: 0.9908\n",
            "Epoch 14/20\n",
            "1719/1719 [==============================] - 6s 4ms/step - loss: 0.0188 - accuracy: 0.9939 - val_loss: 0.0443 - val_accuracy: 0.9904\n",
            "Epoch 15/20\n",
            "1719/1719 [==============================] - 7s 4ms/step - loss: 0.0167 - accuracy: 0.9941 - val_loss: 0.0480 - val_accuracy: 0.9896\n",
            "Epoch 16/20\n",
            "1719/1719 [==============================] - 7s 4ms/step - loss: 0.0195 - accuracy: 0.9937 - val_loss: 0.0412 - val_accuracy: 0.9916\n",
            "Epoch 17/20\n",
            "1719/1719 [==============================] - 7s 4ms/step - loss: 0.0144 - accuracy: 0.9955 - val_loss: 0.0414 - val_accuracy: 0.9922\n",
            "Epoch 18/20\n",
            "1719/1719 [==============================] - 7s 4ms/step - loss: 0.0153 - accuracy: 0.9948 - val_loss: 0.0462 - val_accuracy: 0.9912\n",
            "Epoch 19/20\n",
            "1719/1719 [==============================] - 7s 4ms/step - loss: 0.0141 - accuracy: 0.9954 - val_loss: 0.0459 - val_accuracy: 0.9914\n",
            "Epoch 20/20\n",
            "1719/1719 [==============================] - 7s 4ms/step - loss: 0.0156 - accuracy: 0.9953 - val_loss: 0.0436 - val_accuracy: 0.9916\n"
          ]
        }
      ]
    },
    {
      "cell_type": "markdown",
      "metadata": {
        "id": "fP5lgR8KNqiY"
      },
      "source": [
        "# Análise dos Resultados\n",
        "\n",
        "Entre uma arquitetura com camadas densas e camadas ocultas, qual você acha melhor para um problema com imagens? Pesquise sobre o assunto e disserte sobre o assunto"
      ]
    },
    {
      "cell_type": "markdown",
      "metadata": {
        "id": "9SZ_A1_fN6-y"
      },
      "source": [
        "## Sua Resposta:"
      ]
    },
    {
      "cell_type": "markdown",
      "source": [
        "# Exercício (opcional)\n",
        "\n",
        "Esse dataset identifica um malware em firmware para IoT usando imagens:\n",
        "\n",
        "IoT Firmware Image Classification: https://www.kaggle.com/datasets/datamunge/iot-firmware-image-classification\n",
        "\n",
        "Leia sobre o dataset (e problema) e aplique uma CNN para resolver o problema."
      ],
      "metadata": {
        "id": "pQQVLynViSUp"
      }
    },
    {
      "cell_type": "markdown",
      "metadata": {
        "id": "amtEW9nHur1G"
      },
      "source": [
        "## (OPCIONAL) Dados de IoT"
      ]
    },
    {
      "cell_type": "markdown",
      "metadata": {
        "id": "m3hAiVbSur1G"
      },
      "source": [
        "Neste exercício opcional, você deve copiar e executar a exploração de dados de comunicação usando MQTT disponibilizda no kaggle: https://www.kaggle.com/cnrieiit/mqttset\n",
        "\n",
        "Resumo sobre o conjunto de dados e código:\n",
        "`O trabalho proposto visa criar um conjunto de dados vinculado ao contexto da IoT, em particular no protocolo de comunicação MQTT, de forma a fornecer à comunidade científica e industrial um conjunto de dados inicial para utilizar na sua aplicação. O conjunto de dados é composto por sensores IoT baseados em MQTT onde cada aspecto de uma rede real é definido. Em particular, o broker MQTT é instanciado usando Eclipse Mosquitto e a rede é composta por 8 sensores. O cenário está relacionado a um ambiente doméstico inteligente onde os sensores recuperam informações sobre temperatura, luz, umidade, CO-Gás, movimento, fumaça, porta e ventilador com diferentes intervalos de tempo, pois o comportamento de cada sensor é diferente dos demais.`\n",
        "\n",
        "O código de exemplo está disponível em: https://www.kaggle.com/cnrieiit/mqttset-example-notebook\n",
        "\n",
        "Você pode usar o conjunto de dados reduzido para treinamento e para teste. Você pode encontrar o conjunto de dados reduzido na pasta `Data -> FINAL_CSV -> test30_reduced.csv` e `Data -> FINAL_CSV -> train70_reduced.csv`. Você pode baixar somente esses dois arquivos.\n",
        "\n",
        "Após reproduzir o trabalho dos autores, descreva o que você compreendeu sobre os experimentos e sobre as técnicas de ML utilizadas."
      ]
    },
    {
      "cell_type": "markdown",
      "metadata": {
        "id": "6Tvz0ax8ur1G"
      },
      "source": [
        "# (OPCIONAL) Big Data - Fraudes em Cartão de Crédito"
      ]
    },
    {
      "cell_type": "markdown",
      "metadata": {
        "id": "DF80q2NRur1H"
      },
      "source": [
        "Neste exercício opcional, você deve ler sobre redes autoenconders aplicados a descobrir anomalias em dados temporais de transações de cartões de crédito, sendo que as anomalias dizem respeito a frausde de cartão de crédito. Você deve ler sobre o assunto nesses dois links: https://www.dataversity.net/fraud-detection-using-a-neural-autoencoder/ e https://medium.com/@curiousily/credit-card-fraud-detection-using-autoencoders-in-keras-tensorflow-for-hackers-part-vii-20e0c85301bd.\n",
        "\n",
        "Após a leitura, reproduza o código presente nesse github: https://github.com/curiousily/Credit-Card-Fraud-Detection-using-Autoencoders-in-Keras\n",
        "\n",
        "Após reproduzir o trabalho dos autores, descreva o que você compreendeu sobre os experimentos e sobre as técnicas de ML utilizadas."
      ]
    },
    {
      "cell_type": "code",
      "metadata": {
        "id": "cgyIi1-Bur1H"
      },
      "source": [],
      "execution_count": null,
      "outputs": []
    }
  ]
}